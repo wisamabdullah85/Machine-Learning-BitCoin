{
  "nbformat": 4,
  "nbformat_minor": 0,
  "metadata": {
    "colab": {
      "provenance": [],
      "authorship_tag": "ABX9TyMasIq86k++W1CrnqMFLsJH",
      "include_colab_link": true
    },
    "kernelspec": {
      "name": "python3",
      "display_name": "Python 3"
    },
    "language_info": {
      "name": "python"
    }
  },
  "cells": [
    {
      "cell_type": "markdown",
      "metadata": {
        "id": "view-in-github",
        "colab_type": "text"
      },
      "source": [
        "<a href=\"https://colab.research.google.com/github/wisamabdullah85/Machine-Learning-BitCoin/blob/main/tensorflowwithOneHotEncoder.ipynb\" target=\"_parent\"><img src=\"https://colab.research.google.com/assets/colab-badge.svg\" alt=\"Open In Colab\"/></a>"
      ]
    },
    {
      "cell_type": "code",
      "execution_count": 34,
      "metadata": {
        "id": "NFt8dIACMhO_"
      },
      "outputs": [],
      "source": [
        "import pandas as pd\n",
        "import numpy as np\n",
        "from sklearn.model_selection import train_test_split\n",
        "from sklearn.preprocessing import OneHotEncoder\n",
        "from tensorflow.keras.models import Sequential\n",
        "from tensorflow.keras.layers import Dense\n",
        "from sklearn.metrics import confusion_matrix\n",
        "from sklearn.preprocessing import LabelEncoder"
      ]
    },
    {
      "cell_type": "code",
      "source": [
        "# قراءة الداتا سيت\n",
        "data = pd.read_csv('/content/processed_dataset.csv')"
      ],
      "metadata": {
        "id": "Z4A3QugMNddm"
      },
      "execution_count": 35,
      "outputs": []
    },
    {
      "cell_type": "code",
      "source": [
        "# تطبيق One-Hot Encoding على عمود 'Class'\n",
        "encoder = OneHotEncoder()\n",
        "class_encoded = encoder.fit_transform(data[['Class']]).toarray()\n",
        "class_encoded_df = pd.DataFrame(class_encoded, columns=encoder.get_feature_names_out(['Class']))"
      ],
      "metadata": {
        "id": "EZ5pkKaqNt4h"
      },
      "execution_count": 36,
      "outputs": []
    },
    {
      "cell_type": "code",
      "source": [
        "# إزالة عمود 'Class' وإضافة الأعمدة المُشفرة\n",
        "data_without_class = data.drop('Class', axis=1)\n",
        "data_prepared = pd.concat([data_without_class, class_encoded_df], axis=1)\n"
      ],
      "metadata": {
        "id": "I8MYBdw4N0y2"
      },
      "execution_count": 37,
      "outputs": []
    },
    {
      "cell_type": "code",
      "source": [
        "# تقسيم الداتا سيت إلى مجموعات التدريب والاختبار\n",
        "X = data_prepared.iloc[:, :-len(class_encoded_df.columns)] # الميزات\n",
        "y = data_prepared.iloc[:, -len(class_encoded_df.columns):] # الأهداف\n",
        "X_train, X_test, y_train, y_test = train_test_split(X, y, test_size=0.2, random_state=42)"
      ],
      "metadata": {
        "id": "rohGRoQoN5_9"
      },
      "execution_count": 38,
      "outputs": []
    },
    {
      "cell_type": "code",
      "source": [
        "# بناء نموذج التعلم العميق\n",
        "model = Sequential([\n",
        "    Dense(64, activation='relu', input_shape=(X_train.shape[1],)),\n",
        "    Dense(64, activation='relu'),\n",
        "    Dense(y_train.shape[1], activation='softmax')\n",
        "])\n",
        "\n",
        "model.compile(optimizer='adam',\n",
        "              loss='categorical_crossentropy',\n",
        "              metrics=['accuracy'])\n"
      ],
      "metadata": {
        "id": "KpGTLhQRN_Y9"
      },
      "execution_count": 39,
      "outputs": []
    },
    {
      "cell_type": "code",
      "source": [
        "# تدريب النموذج\n",
        "model.fit(X_train, y_train, epochs=100, batch_size=64)"
      ],
      "metadata": {
        "colab": {
          "base_uri": "https://localhost:8080/"
        },
        "id": "EBDDuLXGOK6J",
        "outputId": "f49e3df2-24af-4275-fc92-dc60c7676cad"
      },
      "execution_count": 40,
      "outputs": [
        {
          "output_type": "stream",
          "name": "stdout",
          "text": [
            "Epoch 1/100\n",
            "35/35 [==============================] - 1s 2ms/step - loss: 2.4708 - accuracy: 0.1839\n",
            "Epoch 2/100\n",
            "35/35 [==============================] - 0s 2ms/step - loss: 2.2520 - accuracy: 0.2112\n",
            "Epoch 3/100\n",
            "35/35 [==============================] - 0s 2ms/step - loss: 2.0685 - accuracy: 0.2559\n",
            "Epoch 4/100\n",
            "35/35 [==============================] - 0s 2ms/step - loss: 1.9342 - accuracy: 0.2933\n",
            "Epoch 5/100\n",
            "35/35 [==============================] - 0s 2ms/step - loss: 1.8304 - accuracy: 0.3166\n",
            "Epoch 6/100\n",
            "35/35 [==============================] - 0s 2ms/step - loss: 1.7371 - accuracy: 0.3380\n",
            "Epoch 7/100\n",
            "35/35 [==============================] - 0s 2ms/step - loss: 1.6612 - accuracy: 0.3609\n",
            "Epoch 8/100\n",
            "35/35 [==============================] - 0s 2ms/step - loss: 1.6026 - accuracy: 0.3659\n",
            "Epoch 9/100\n",
            "35/35 [==============================] - 0s 2ms/step - loss: 1.5576 - accuracy: 0.3846\n",
            "Epoch 10/100\n",
            "35/35 [==============================] - 0s 2ms/step - loss: 1.5206 - accuracy: 0.3791\n",
            "Epoch 11/100\n",
            "35/35 [==============================] - 0s 2ms/step - loss: 1.4931 - accuracy: 0.4001\n",
            "Epoch 12/100\n",
            "35/35 [==============================] - 0s 2ms/step - loss: 1.4665 - accuracy: 0.4165\n",
            "Epoch 13/100\n",
            "35/35 [==============================] - 0s 2ms/step - loss: 1.4457 - accuracy: 0.4151\n",
            "Epoch 14/100\n",
            "35/35 [==============================] - 0s 2ms/step - loss: 1.4255 - accuracy: 0.4024\n",
            "Epoch 15/100\n",
            "35/35 [==============================] - 0s 2ms/step - loss: 1.4147 - accuracy: 0.4060\n",
            "Epoch 16/100\n",
            "35/35 [==============================] - 0s 2ms/step - loss: 1.3910 - accuracy: 0.4325\n",
            "Epoch 17/100\n",
            "35/35 [==============================] - 0s 2ms/step - loss: 1.3765 - accuracy: 0.4252\n",
            "Epoch 18/100\n",
            "35/35 [==============================] - 0s 2ms/step - loss: 1.3597 - accuracy: 0.4430\n",
            "Epoch 19/100\n",
            "35/35 [==============================] - 0s 2ms/step - loss: 1.3504 - accuracy: 0.4352\n",
            "Epoch 20/100\n",
            "35/35 [==============================] - 0s 2ms/step - loss: 1.3355 - accuracy: 0.4348\n",
            "Epoch 21/100\n",
            "35/35 [==============================] - 0s 2ms/step - loss: 1.3254 - accuracy: 0.4494\n",
            "Epoch 22/100\n",
            "35/35 [==============================] - 0s 2ms/step - loss: 1.3149 - accuracy: 0.4494\n",
            "Epoch 23/100\n",
            "35/35 [==============================] - 0s 2ms/step - loss: 1.2986 - accuracy: 0.4521\n",
            "Epoch 24/100\n",
            "35/35 [==============================] - 0s 2ms/step - loss: 1.3019 - accuracy: 0.4462\n",
            "Epoch 25/100\n",
            "35/35 [==============================] - 0s 2ms/step - loss: 1.2802 - accuracy: 0.4599\n",
            "Epoch 26/100\n",
            "35/35 [==============================] - 0s 2ms/step - loss: 1.2680 - accuracy: 0.4617\n",
            "Epoch 27/100\n",
            "35/35 [==============================] - 0s 2ms/step - loss: 1.2610 - accuracy: 0.4703\n",
            "Epoch 28/100\n",
            "35/35 [==============================] - 0s 2ms/step - loss: 1.2561 - accuracy: 0.4758\n",
            "Epoch 29/100\n",
            "35/35 [==============================] - 0s 2ms/step - loss: 1.2452 - accuracy: 0.4772\n",
            "Epoch 30/100\n",
            "35/35 [==============================] - 0s 2ms/step - loss: 1.2361 - accuracy: 0.4849\n",
            "Epoch 31/100\n",
            "35/35 [==============================] - 0s 2ms/step - loss: 1.2250 - accuracy: 0.4891\n",
            "Epoch 32/100\n",
            "35/35 [==============================] - 0s 2ms/step - loss: 1.2190 - accuracy: 0.4900\n",
            "Epoch 33/100\n",
            "35/35 [==============================] - 0s 2ms/step - loss: 1.2132 - accuracy: 0.4968\n",
            "Epoch 34/100\n",
            "35/35 [==============================] - 0s 2ms/step - loss: 1.2065 - accuracy: 0.4804\n",
            "Epoch 35/100\n",
            "35/35 [==============================] - 0s 2ms/step - loss: 1.1961 - accuracy: 0.5014\n",
            "Epoch 36/100\n",
            "35/35 [==============================] - 0s 2ms/step - loss: 1.2005 - accuracy: 0.5032\n",
            "Epoch 37/100\n",
            "35/35 [==============================] - 0s 2ms/step - loss: 1.1873 - accuracy: 0.5123\n",
            "Epoch 38/100\n",
            "35/35 [==============================] - 0s 2ms/step - loss: 1.1853 - accuracy: 0.5000\n",
            "Epoch 39/100\n",
            "35/35 [==============================] - 0s 2ms/step - loss: 1.1779 - accuracy: 0.5023\n",
            "Epoch 40/100\n",
            "35/35 [==============================] - 0s 2ms/step - loss: 1.1721 - accuracy: 0.5036\n",
            "Epoch 41/100\n",
            "35/35 [==============================] - 0s 2ms/step - loss: 1.1715 - accuracy: 0.5173\n",
            "Epoch 42/100\n",
            "35/35 [==============================] - 0s 2ms/step - loss: 1.1668 - accuracy: 0.5196\n",
            "Epoch 43/100\n",
            "35/35 [==============================] - 0s 2ms/step - loss: 1.1568 - accuracy: 0.5224\n",
            "Epoch 44/100\n",
            "35/35 [==============================] - 0s 2ms/step - loss: 1.1527 - accuracy: 0.5155\n",
            "Epoch 45/100\n",
            "35/35 [==============================] - 0s 2ms/step - loss: 1.1489 - accuracy: 0.5201\n",
            "Epoch 46/100\n",
            "35/35 [==============================] - 0s 2ms/step - loss: 1.1475 - accuracy: 0.5219\n",
            "Epoch 47/100\n",
            "35/35 [==============================] - 0s 2ms/step - loss: 1.1367 - accuracy: 0.5328\n",
            "Epoch 48/100\n",
            "35/35 [==============================] - 0s 2ms/step - loss: 1.1356 - accuracy: 0.5173\n",
            "Epoch 49/100\n",
            "35/35 [==============================] - 0s 2ms/step - loss: 1.1335 - accuracy: 0.5328\n",
            "Epoch 50/100\n",
            "35/35 [==============================] - 0s 2ms/step - loss: 1.1301 - accuracy: 0.5233\n",
            "Epoch 51/100\n",
            "35/35 [==============================] - 0s 2ms/step - loss: 1.1251 - accuracy: 0.5233\n",
            "Epoch 52/100\n",
            "35/35 [==============================] - 0s 2ms/step - loss: 1.1254 - accuracy: 0.5351\n",
            "Epoch 53/100\n",
            "35/35 [==============================] - 0s 2ms/step - loss: 1.1183 - accuracy: 0.5319\n",
            "Epoch 54/100\n",
            "35/35 [==============================] - 0s 2ms/step - loss: 1.1150 - accuracy: 0.5383\n",
            "Epoch 55/100\n",
            "35/35 [==============================] - 0s 2ms/step - loss: 1.1125 - accuracy: 0.5351\n",
            "Epoch 56/100\n",
            "35/35 [==============================] - 0s 2ms/step - loss: 1.1070 - accuracy: 0.5452\n",
            "Epoch 57/100\n",
            "35/35 [==============================] - 0s 2ms/step - loss: 1.1115 - accuracy: 0.5360\n",
            "Epoch 58/100\n",
            "35/35 [==============================] - 0s 2ms/step - loss: 1.1090 - accuracy: 0.5360\n",
            "Epoch 59/100\n",
            "35/35 [==============================] - 0s 2ms/step - loss: 1.0974 - accuracy: 0.5438\n",
            "Epoch 60/100\n",
            "35/35 [==============================] - 0s 2ms/step - loss: 1.0941 - accuracy: 0.5415\n",
            "Epoch 61/100\n",
            "35/35 [==============================] - 0s 2ms/step - loss: 1.0916 - accuracy: 0.5488\n",
            "Epoch 62/100\n",
            "35/35 [==============================] - 0s 2ms/step - loss: 1.0858 - accuracy: 0.5474\n",
            "Epoch 63/100\n",
            "35/35 [==============================] - 0s 2ms/step - loss: 1.0825 - accuracy: 0.5547\n",
            "Epoch 64/100\n",
            "35/35 [==============================] - 0s 2ms/step - loss: 1.0789 - accuracy: 0.5470\n",
            "Epoch 65/100\n",
            "35/35 [==============================] - 0s 2ms/step - loss: 1.0786 - accuracy: 0.5443\n",
            "Epoch 66/100\n",
            "35/35 [==============================] - 0s 2ms/step - loss: 1.0749 - accuracy: 0.5433\n",
            "Epoch 67/100\n",
            "35/35 [==============================] - 0s 2ms/step - loss: 1.0679 - accuracy: 0.5616\n",
            "Epoch 68/100\n",
            "35/35 [==============================] - 0s 2ms/step - loss: 1.0707 - accuracy: 0.5415\n",
            "Epoch 69/100\n",
            "35/35 [==============================] - 0s 2ms/step - loss: 1.0644 - accuracy: 0.5438\n",
            "Epoch 70/100\n",
            "35/35 [==============================] - 0s 2ms/step - loss: 1.0591 - accuracy: 0.5566\n",
            "Epoch 71/100\n",
            "35/35 [==============================] - 0s 2ms/step - loss: 1.0633 - accuracy: 0.5543\n",
            "Epoch 72/100\n",
            "35/35 [==============================] - 0s 2ms/step - loss: 1.0606 - accuracy: 0.5461\n",
            "Epoch 73/100\n",
            "35/35 [==============================] - 0s 2ms/step - loss: 1.0534 - accuracy: 0.5607\n",
            "Epoch 74/100\n",
            "35/35 [==============================] - 0s 2ms/step - loss: 1.0494 - accuracy: 0.5543\n",
            "Epoch 75/100\n",
            "35/35 [==============================] - 0s 2ms/step - loss: 1.0532 - accuracy: 0.5534\n",
            "Epoch 76/100\n",
            "35/35 [==============================] - 0s 2ms/step - loss: 1.0457 - accuracy: 0.5584\n",
            "Epoch 77/100\n",
            "35/35 [==============================] - 0s 2ms/step - loss: 1.0418 - accuracy: 0.5712\n",
            "Epoch 78/100\n",
            "35/35 [==============================] - 0s 2ms/step - loss: 1.0450 - accuracy: 0.5602\n",
            "Epoch 79/100\n",
            "35/35 [==============================] - 0s 2ms/step - loss: 1.0374 - accuracy: 0.5616\n",
            "Epoch 80/100\n",
            "35/35 [==============================] - 0s 2ms/step - loss: 1.0333 - accuracy: 0.5652\n",
            "Epoch 81/100\n",
            "35/35 [==============================] - 0s 2ms/step - loss: 1.0368 - accuracy: 0.5589\n",
            "Epoch 82/100\n",
            "35/35 [==============================] - 0s 3ms/step - loss: 1.0314 - accuracy: 0.5552\n",
            "Epoch 83/100\n",
            "35/35 [==============================] - 0s 2ms/step - loss: 1.0255 - accuracy: 0.5661\n",
            "Epoch 84/100\n",
            "35/35 [==============================] - 0s 2ms/step - loss: 1.0222 - accuracy: 0.5730\n",
            "Epoch 85/100\n",
            "35/35 [==============================] - 0s 2ms/step - loss: 1.0193 - accuracy: 0.5630\n",
            "Epoch 86/100\n",
            "35/35 [==============================] - 0s 2ms/step - loss: 1.0201 - accuracy: 0.5538\n",
            "Epoch 87/100\n",
            "35/35 [==============================] - 0s 2ms/step - loss: 1.0209 - accuracy: 0.5607\n",
            "Epoch 88/100\n",
            "35/35 [==============================] - 0s 2ms/step - loss: 1.0119 - accuracy: 0.5817\n",
            "Epoch 89/100\n",
            "35/35 [==============================] - 0s 2ms/step - loss: 1.0197 - accuracy: 0.5570\n",
            "Epoch 90/100\n",
            "35/35 [==============================] - 0s 2ms/step - loss: 1.0081 - accuracy: 0.5698\n",
            "Epoch 91/100\n",
            "35/35 [==============================] - 0s 2ms/step - loss: 1.0116 - accuracy: 0.5639\n",
            "Epoch 92/100\n",
            "35/35 [==============================] - 0s 2ms/step - loss: 1.0132 - accuracy: 0.5643\n",
            "Epoch 93/100\n",
            "35/35 [==============================] - 0s 4ms/step - loss: 1.0104 - accuracy: 0.5684\n",
            "Epoch 94/100\n",
            "35/35 [==============================] - 0s 4ms/step - loss: 1.0015 - accuracy: 0.5721\n",
            "Epoch 95/100\n",
            "35/35 [==============================] - 0s 4ms/step - loss: 1.0066 - accuracy: 0.5671\n",
            "Epoch 96/100\n",
            "35/35 [==============================] - 0s 3ms/step - loss: 1.0044 - accuracy: 0.5785\n",
            "Epoch 97/100\n",
            "35/35 [==============================] - 0s 3ms/step - loss: 0.9941 - accuracy: 0.5721\n",
            "Epoch 98/100\n",
            "35/35 [==============================] - 0s 3ms/step - loss: 0.9908 - accuracy: 0.5794\n",
            "Epoch 99/100\n",
            "35/35 [==============================] - 0s 3ms/step - loss: 0.9924 - accuracy: 0.5657\n",
            "Epoch 100/100\n",
            "35/35 [==============================] - 0s 3ms/step - loss: 0.9943 - accuracy: 0.5689\n"
          ]
        },
        {
          "output_type": "execute_result",
          "data": {
            "text/plain": [
              "<keras.src.callbacks.History at 0x7a2445a3d4e0>"
            ]
          },
          "metadata": {},
          "execution_count": 40
        }
      ]
    },
    {
      "cell_type": "code",
      "source": [
        "# تقييم النموذج\n",
        "loss, accuracy = model.evaluate(X_test, y_test)\n",
        "print(f'Loss: {loss}, Accuracy: {accuracy}')"
      ],
      "metadata": {
        "colab": {
          "base_uri": "https://localhost:8080/"
        },
        "id": "Dwk4ILPuOPLv",
        "outputId": "44ea170a-eeba-4750-e8c7-652ae1c4e877"
      },
      "execution_count": 41,
      "outputs": [
        {
          "output_type": "stream",
          "name": "stdout",
          "text": [
            "18/18 [==============================] - 0s 2ms/step - loss: 1.0236 - accuracy: 0.5602\n",
            "Loss: 1.0235778093338013, Accuracy: 0.5602189898490906\n"
          ]
        }
      ]
    },
    {
      "cell_type": "code",
      "source": [
        "# التنبؤ بالبيانات الاختبارية\n",
        "y_pred = model.predict(X_test)\n",
        "y_pred_labels = np.argmax(y_pred, axis=1)\n",
        "y_test_labels = np.argmax(y_test.to_numpy(), axis=1)"
      ],
      "metadata": {
        "colab": {
          "base_uri": "https://localhost:8080/"
        },
        "id": "TCp9i-alOUNd",
        "outputId": "552b8e01-ae02-438b-ffc6-b1474985f285"
      },
      "execution_count": 42,
      "outputs": [
        {
          "output_type": "stream",
          "name": "stdout",
          "text": [
            "18/18 [==============================] - 0s 2ms/step\n"
          ]
        }
      ]
    },
    {
      "cell_type": "code",
      "source": [
        "# حساب مصفوفة الالتباس\n",
        "conf_matrix = confusion_matrix(y_test_labels, y_pred_labels)\n",
        "print('Confusion Matrix:\\n', conf_matrix)"
      ],
      "metadata": {
        "colab": {
          "base_uri": "https://localhost:8080/"
        },
        "id": "l-2Rqxu2O-EG",
        "outputId": "7216c6e5-e814-48a3-d066-cfbe39e56053"
      },
      "execution_count": 43,
      "outputs": [
        {
          "output_type": "stream",
          "name": "stdout",
          "text": [
            "Confusion Matrix:\n",
            " [[ 3  0  2  3  0  0  0  4 31  0  0  0  0]\n",
            " [ 0 30  0  0  9  0  0  0  0  0  0  0  0]\n",
            " [ 0  6 21  0 12  0  1  0  0  0  0  0  4]\n",
            " [ 0  0  0 28  0  0  0  2 13  1  0  0  0]\n",
            " [ 0  8  1  0 31  0  6  0  0  0  0  0  0]\n",
            " [ 0  0  0  0  0 35  2  1  0  0  2  0  3]\n",
            " [ 0  0  6  0  0  2 17  0  0  0  0  0 12]\n",
            " [ 0  0  0  0  0  0  0 29  3  7  0  2  0]\n",
            " [ 5  0  0 13  0  0  0  2 30  0  0  0  0]\n",
            " [ 0  0  0  0  0  0  0  9  5 11  0 18  0]\n",
            " [ 6  0  0  3  0  2  0  2  1  1 20  2  0]\n",
            " [ 0  0  0  2  0  0  0  9  5  4  0 17  0]\n",
            " [ 0  0  4  0  0  2  3  0  0  0  0  0 35]]\n"
          ]
        }
      ]
    }
  ]
}