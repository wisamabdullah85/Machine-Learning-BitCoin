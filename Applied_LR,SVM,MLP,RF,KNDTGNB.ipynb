{
  "nbformat": 4,
  "nbformat_minor": 0,
  "metadata": {
    "colab": {
      "provenance": [],
      "authorship_tag": "ABX9TyMRVa24xnjIMoUrLUNejva7",
      "include_colab_link": true
    },
    "kernelspec": {
      "name": "python3",
      "display_name": "Python 3"
    },
    "language_info": {
      "name": "python"
    }
  },
  "cells": [
    {
      "cell_type": "markdown",
      "metadata": {
        "id": "view-in-github",
        "colab_type": "text"
      },
      "source": [
        "<a href=\"https://colab.research.google.com/github/wisamabdullah85/Machine-Learning-BitCoin/blob/main/Applied_LR%2CSVM%2CMLP%2CRF%2CKNDTGNB.ipynb\" target=\"_parent\"><img src=\"https://colab.research.google.com/assets/colab-badge.svg\" alt=\"Open In Colab\"/></a>"
      ]
    },
    {
      "cell_type": "code",
      "execution_count": 39,
      "metadata": {
        "id": "nNaORj9Cr19x"
      },
      "outputs": [],
      "source": [
        "# استيراد المكتبات اللازمة\n",
        "import numpy as np\n",
        "import pandas as pd\n",
        "from sklearn.model_selection import train_test_split\n",
        "from sklearn.metrics import confusion_matrix, classification_report\n",
        "from sklearn.preprocessing import StandardScaler\n",
        "from sklearn.linear_model import LogisticRegression\n",
        "from sklearn.svm import SVC\n",
        "from sklearn.neural_network import MLPClassifier\n",
        "from sklearn.ensemble import RandomForestClassifier, GradientBoostingClassifier\n",
        "from sklearn.neighbors import KNeighborsClassifier\n",
        "from sklearn.tree import DecisionTreeClassifier\n",
        "from sklearn.naive_bayes import GaussianNB\n",
        "from sklearn.linear_model import Perceptron\n",
        "from sklearn.impute import SimpleImputer\n",
        "from sklearn.pipeline import make_pipeline"
      ]
    },
    {
      "cell_type": "code",
      "source": [
        "# تحميل الداتا سيت المحسن\n",
        "data = pd.read_csv('/content/updated_dataset.csv')"
      ],
      "metadata": {
        "id": "3Y1vEfcGsD93"
      },
      "execution_count": 40,
      "outputs": []
    },
    {
      "cell_type": "code",
      "source": [
        "data.columns"
      ],
      "metadata": {
        "colab": {
          "base_uri": "https://localhost:8080/"
        },
        "id": "rW0-DgOps8ob",
        "outputId": "f0ab21ad-7b64-481e-aaad-4834453f20c7"
      },
      "execution_count": 41,
      "outputs": [
        {
          "output_type": "execute_result",
          "data": {
            "text/plain": [
              "Index(['Last Price', 'Open Price', 'Max', 'Min', 'Size', 'Change Persent',\n",
              "       'Class'],\n",
              "      dtype='object')"
            ]
          },
          "metadata": {},
          "execution_count": 41
        }
      ]
    },
    {
      "cell_type": "code",
      "source": [
        "# تحديد المتغيرات المستقلة والمتغير الهدف\n",
        "X = data.drop('Class', axis=1)  # استبدل 'Target_Column' بالعمود الهدف في بياناتك\n",
        "y = data['Class']"
      ],
      "metadata": {
        "id": "z48hyHPOu_Ul"
      },
      "execution_count": 42,
      "outputs": []
    },
    {
      "cell_type": "code",
      "source": [
        "# تقسيم البيانات إلى مجموعة تدريب ومجموعة اختبار\n",
        "X_train, X_test, y_train, y_test = train_test_split(X, y, test_size=0.2, random_state=42)"
      ],
      "metadata": {
        "id": "yR_4xX_avHfU"
      },
      "execution_count": 43,
      "outputs": []
    },
    {
      "cell_type": "code",
      "source": [
        "# تطبيع البيانات\n",
        "scaler = StandardScaler()\n",
        "X_train = scaler.fit_transform(X_train)\n",
        "X_test = scaler.transform(X_test)"
      ],
      "metadata": {
        "id": "MG_9a1YwvLvc"
      },
      "execution_count": 44,
      "outputs": []
    },
    {
      "cell_type": "code",
      "source": [
        "# تهيئة محسن لملء القيم المفقودة بالمتوسط\n",
        "imputer = SimpleImputer(strategy='mean')"
      ],
      "metadata": {
        "id": "xQGYQnT5xosU"
      },
      "execution_count": 45,
      "outputs": []
    },
    {
      "cell_type": "code",
      "source": [
        "# تحديث الكود لاستخدام النماذج مع محسن في Pipeline\n",
        "models = {\n",
        "    \"Logistic Regression\": make_pipeline(imputer, LogisticRegression()),\n",
        "    \"SVM\": make_pipeline(imputer, SVC()),\n",
        "    \"Decision Tree\": make_pipeline(imputer, DecisionTreeClassifier()),\n",
        "    \"Random Forest\": make_pipeline(imputer, RandomForestClassifier()),\n",
        "    \"KNN\": make_pipeline(imputer, KNeighborsClassifier()),\n",
        "    \"Gaussian NB\": make_pipeline(imputer, GaussianNB()),\n",
        "    \"Perceptron\": make_pipeline(imputer, Perceptron()),\n",
        "    \"Gradient Boosting\": make_pipeline(imputer, GradientBoostingClassifier())\n",
        "}"
      ],
      "metadata": {
        "id": "iUgd1iMDvRmG"
      },
      "execution_count": 46,
      "outputs": []
    },
    {
      "cell_type": "code",
      "source": [
        "# data[''].fillna(0, inplace = True)\n",
        "#data['Size'].fillna(0, inplace = True)"
      ],
      "metadata": {
        "id": "Ygbx-Gw1wLZ1"
      },
      "execution_count": 47,
      "outputs": []
    },
    {
      "cell_type": "code",
      "source": [
        "print(data.isnull().sum())"
      ],
      "metadata": {
        "colab": {
          "base_uri": "https://localhost:8080/"
        },
        "id": "31V4WWE4wmGf",
        "outputId": "279e472a-0579-408d-fa25-8d0b4e00e3af"
      },
      "execution_count": 48,
      "outputs": [
        {
          "output_type": "stream",
          "name": "stdout",
          "text": [
            "Last Price        0\n",
            "Open Price        0\n",
            "Max               0\n",
            "Min               0\n",
            "Size              2\n",
            "Change Persent    0\n",
            "Class             0\n",
            "dtype: int64\n"
          ]
        }
      ]
    },
    {
      "cell_type": "code",
      "source": [
        "# تطبيق الخوارزميات وتقييمها\n",
        "for name, model in models.items():\n",
        "    model.fit(X_train, y_train)\n",
        "    y_pred = model.predict(X_test)\n",
        "    print(f\"{name} Performance:\")\n",
        "    print(\"Confusion Matrix:\")\n",
        "    print(confusion_matrix(y_test, y_pred))\n",
        "    print(\"Accuracy:\", accuracy_score(y_test, y_pred))\n",
        "    print(\"Classification Report:\")\n",
        "    print(classification_report(y_test, y_pred))\n",
        "    print(\"-----------------------------------\")"
      ],
      "metadata": {
        "colab": {
          "base_uri": "https://localhost:8080/"
        },
        "id": "pi6BntN4wEce",
        "outputId": "50deab2e-1bf1-4f1a-bcda-b4eea7101e8b"
      },
      "execution_count": 49,
      "outputs": [
        {
          "output_type": "stream",
          "name": "stdout",
          "text": [
            "Logistic Regression Performance:\n",
            "Confusion Matrix:\n",
            "[[36  0  1  2  0  0  1  0  0  0  0  3  0]\n",
            " [ 0 39  0  0  0  0  0  0  0  0  0  0  0]\n",
            " [ 0  0 20  0  7  1  8  1  0  0  7  0  0]\n",
            " [15  0  0 29  0  0  0  0  0  0  0  0  0]\n",
            " [ 0  0 11  0 21  0 11  1  0  0  2  0  0]\n",
            " [ 1  0  0  0  0  5  0  9  0  0 21  7  0]\n",
            " [ 1  0  7  0  0  0  3  6  0  0 20  0  0]\n",
            " [ 1  0  0  0  0  0  0  0  0  0 37  3  0]\n",
            " [39  0  0  8  0  0  0  0  0  0  0  3  0]\n",
            " [ 1  0  0  0  0  0  0  0  0  0 21 21  0]\n",
            " [ 0  0  0  0  0  0  0 13  0  0 24  0  0]\n",
            " [ 0  0  0  0  0  0  0  0  0  0 22 15  0]\n",
            " [ 0  0  5  0  0  0  5 10  0  0 24  0  0]]\n",
            "Accuracy: 0.35036496350364965\n",
            "Classification Report:\n",
            "                   precision    recall  f1-score   support\n",
            "\n",
            "     Binance Coin       0.38      0.84      0.53        43\n",
            "          Bitcoin       1.00      1.00      1.00        39\n",
            "    Bitcoin Cash        0.45      0.45      0.45        44\n",
            "        Dogecoin        0.74      0.66      0.70        44\n",
            "         Ethereum       0.75      0.46      0.57        46\n",
            "Ethereum Classic        0.83      0.12      0.20        43\n",
            "         Litecoin       0.11      0.08      0.09        37\n",
            "      Pax Dollar        0.00      0.00      0.00        41\n",
            "           Ripple       0.00      0.00      0.00        50\n",
            "           Tether       0.00      0.00      0.00        43\n",
            "            Tezos       0.13      0.65      0.22        37\n",
            "        USD Coin        0.29      0.41      0.34        37\n",
            "            Zcash       0.00      0.00      0.00        44\n",
            "\n",
            "         accuracy                           0.35       548\n",
            "        macro avg       0.36      0.36      0.32       548\n",
            "     weighted avg       0.36      0.35      0.31       548\n",
            "\n",
            "-----------------------------------\n"
          ]
        },
        {
          "output_type": "stream",
          "name": "stderr",
          "text": [
            "/usr/local/lib/python3.10/dist-packages/sklearn/metrics/_classification.py:1344: UndefinedMetricWarning: Precision and F-score are ill-defined and being set to 0.0 in labels with no predicted samples. Use `zero_division` parameter to control this behavior.\n",
            "  _warn_prf(average, modifier, msg_start, len(result))\n",
            "/usr/local/lib/python3.10/dist-packages/sklearn/metrics/_classification.py:1344: UndefinedMetricWarning: Precision and F-score are ill-defined and being set to 0.0 in labels with no predicted samples. Use `zero_division` parameter to control this behavior.\n",
            "  _warn_prf(average, modifier, msg_start, len(result))\n",
            "/usr/local/lib/python3.10/dist-packages/sklearn/metrics/_classification.py:1344: UndefinedMetricWarning: Precision and F-score are ill-defined and being set to 0.0 in labels with no predicted samples. Use `zero_division` parameter to control this behavior.\n",
            "  _warn_prf(average, modifier, msg_start, len(result))\n"
          ]
        },
        {
          "output_type": "stream",
          "name": "stdout",
          "text": [
            "SVM Performance:\n",
            "Confusion Matrix:\n",
            "[[23  0  0  5  0  0  0  0  0  0  0 15  0]\n",
            " [ 0 39  0  0  0  0  0  0  0  0  0  0  0]\n",
            " [ 0  0  0  0  0  4  5  0  0  0  9 26  0]\n",
            " [14  0  0 29  0  0  0  0  0  0  0  1  0]\n",
            " [ 0  0  6  0 14  2  4  0  0  0  2 18  0]\n",
            " [ 0  0  0  0  0  3  5  0  0  0  6 29  0]\n",
            " [ 0  0  0  0  0  3  4  0  0  0  4 26  0]\n",
            " [ 0  0  0  0  0  0  0  0  0  0  0 41  0]\n",
            " [30  0  0 12  0  0  0  0  0  0  1  7  0]\n",
            " [ 0  0  0  0  0  0  0  0  0  0  0 43  0]\n",
            " [ 0  0  0  0  0  3  8  0  0  0  4 22  0]\n",
            " [ 0  0  0  0  0  0  0  0  0  0  0 37  0]\n",
            " [ 0  0  1  0  0  4  7  0  0  0  8 24  0]]\n",
            "Accuracy: 0.2791970802919708\n",
            "Classification Report:\n",
            "                   precision    recall  f1-score   support\n",
            "\n",
            "     Binance Coin       0.34      0.53      0.42        43\n",
            "          Bitcoin       1.00      1.00      1.00        39\n",
            "    Bitcoin Cash        0.00      0.00      0.00        44\n",
            "        Dogecoin        0.63      0.66      0.64        44\n",
            "         Ethereum       1.00      0.30      0.47        46\n",
            "Ethereum Classic        0.16      0.07      0.10        43\n",
            "         Litecoin       0.12      0.11      0.11        37\n",
            "      Pax Dollar        0.00      0.00      0.00        41\n",
            "           Ripple       0.00      0.00      0.00        50\n",
            "           Tether       0.00      0.00      0.00        43\n",
            "            Tezos       0.12      0.11      0.11        37\n",
            "        USD Coin        0.13      1.00      0.23        37\n",
            "            Zcash       0.00      0.00      0.00        44\n",
            "\n",
            "         accuracy                           0.28       548\n",
            "        macro avg       0.27      0.29      0.24       548\n",
            "     weighted avg       0.27      0.28      0.23       548\n",
            "\n",
            "-----------------------------------\n",
            "Decision Tree Performance:\n",
            "Confusion Matrix:\n",
            "[[ 9  0  0  1  0  0  0  0 33  0  0  0  0]\n",
            " [ 0 39  0  0  0  0  0  0  0  0  0  0  0]\n",
            " [ 1  0 36  0  4  0  0  0  0  0  0  0  3]\n",
            " [ 2  0  0 42  0  0  0  0  0  0  0  0  0]\n",
            " [ 0  0  1  0 41  1  3  0  0  0  0  0  0]\n",
            " [ 0  0  0  0  0 36  3  0  0  0  3  0  1]\n",
            " [ 0  0  0  0  1  1 29  0  0  0  0  0  6]\n",
            " [ 0  0  0  0  0  0  0 30  0  8  0  3  0]\n",
            " [48  0  0  1  0  0  0  0  1  0  0  0  0]\n",
            " [ 0  0  0  0  0  0  0  9  0 30  0  4  0]\n",
            " [ 0  0  0  0  0  5  0  0  0  0 32  0  0]\n",
            " [ 0  0  0  0  0  0  0  6  0 10  1 20  0]\n",
            " [ 0  0  1  0  0  1  6  0  0  0  0  0 36]]\n",
            "Accuracy: 0.6952554744525548\n",
            "Classification Report:\n",
            "                   precision    recall  f1-score   support\n",
            "\n",
            "     Binance Coin       0.15      0.21      0.17        43\n",
            "          Bitcoin       1.00      1.00      1.00        39\n",
            "    Bitcoin Cash        0.95      0.82      0.88        44\n",
            "        Dogecoin        0.95      0.95      0.95        44\n",
            "         Ethereum       0.89      0.89      0.89        46\n",
            "Ethereum Classic        0.82      0.84      0.83        43\n",
            "         Litecoin       0.71      0.78      0.74        37\n",
            "      Pax Dollar        0.67      0.73      0.70        41\n",
            "           Ripple       0.03      0.02      0.02        50\n",
            "           Tether       0.62      0.70      0.66        43\n",
            "            Tezos       0.89      0.86      0.88        37\n",
            "        USD Coin        0.74      0.54      0.62        37\n",
            "            Zcash       0.78      0.82      0.80        44\n",
            "\n",
            "         accuracy                           0.70       548\n",
            "        macro avg       0.71      0.71      0.70       548\n",
            "     weighted avg       0.70      0.70      0.69       548\n",
            "\n",
            "-----------------------------------\n"
          ]
        },
        {
          "output_type": "stream",
          "name": "stderr",
          "text": [
            "/usr/local/lib/python3.10/dist-packages/sklearn/metrics/_classification.py:1344: UndefinedMetricWarning: Precision and F-score are ill-defined and being set to 0.0 in labels with no predicted samples. Use `zero_division` parameter to control this behavior.\n",
            "  _warn_prf(average, modifier, msg_start, len(result))\n",
            "/usr/local/lib/python3.10/dist-packages/sklearn/metrics/_classification.py:1344: UndefinedMetricWarning: Precision and F-score are ill-defined and being set to 0.0 in labels with no predicted samples. Use `zero_division` parameter to control this behavior.\n",
            "  _warn_prf(average, modifier, msg_start, len(result))\n",
            "/usr/local/lib/python3.10/dist-packages/sklearn/metrics/_classification.py:1344: UndefinedMetricWarning: Precision and F-score are ill-defined and being set to 0.0 in labels with no predicted samples. Use `zero_division` parameter to control this behavior.\n",
            "  _warn_prf(average, modifier, msg_start, len(result))\n"
          ]
        },
        {
          "output_type": "stream",
          "name": "stdout",
          "text": [
            "Random Forest Performance:\n",
            "Confusion Matrix:\n",
            "[[ 7  0  0  0  0  0  0  0 36  0  0  0  0]\n",
            " [ 0 39  0  0  0  0  0  0  0  0  0  0  0]\n",
            " [ 0  0 38  0  2  0  1  0  0  0  0  0  3]\n",
            " [ 0  0  0 43  0  0  0  0  1  0  0  0  0]\n",
            " [ 0  0  2  0 38  0  5  0  0  0  0  0  1]\n",
            " [ 0  0  0  0  0 40  2  0  0  0  1  0  0]\n",
            " [ 0  0  0  0  0  1 28  0  0  0  0  0  8]\n",
            " [ 0  0  0  0  0  0  0 34  0  5  0  2  0]\n",
            " [46  0  0  0  0  0  0  0  4  0  0  0  0]\n",
            " [ 0  0  0  0  0  0  0  7  0 30  0  6  0]\n",
            " [ 0  0  0  0  0  4  0  0  0  0 33  0  0]\n",
            " [ 0  0  0  0  0  0  0  6  0  7  0 24  0]\n",
            " [ 0  0  2  0  0  0  7  0  0  0  0  0 35]]\n",
            "Accuracy: 0.7171532846715328\n",
            "Classification Report:\n",
            "                   precision    recall  f1-score   support\n",
            "\n",
            "     Binance Coin       0.13      0.16      0.15        43\n",
            "          Bitcoin       1.00      1.00      1.00        39\n",
            "    Bitcoin Cash        0.90      0.86      0.88        44\n",
            "        Dogecoin        1.00      0.98      0.99        44\n",
            "         Ethereum       0.95      0.83      0.88        46\n",
            "Ethereum Classic        0.89      0.93      0.91        43\n",
            "         Litecoin       0.65      0.76      0.70        37\n",
            "      Pax Dollar        0.72      0.83      0.77        41\n",
            "           Ripple       0.10      0.08      0.09        50\n",
            "           Tether       0.71      0.70      0.71        43\n",
            "            Tezos       0.97      0.89      0.93        37\n",
            "        USD Coin        0.75      0.65      0.70        37\n",
            "            Zcash       0.74      0.80      0.77        44\n",
            "\n",
            "         accuracy                           0.72       548\n",
            "        macro avg       0.73      0.73      0.73       548\n",
            "     weighted avg       0.72      0.72      0.72       548\n",
            "\n",
            "-----------------------------------\n",
            "KNN Performance:\n",
            "Confusion Matrix:\n",
            "[[13  0  1  6  1  1  0  0 20  0  0  1  0]\n",
            " [ 0 39  0  0  0  0  0  0  0  0  0  0  0]\n",
            " [ 0  0 25  0  3  4  4  0  0  0  3  0  5]\n",
            " [15  0  0 29  0  0  0  0  0  0  0  0  0]\n",
            " [ 2  0 10  0 23  0  4  0  0  0  0  0  7]\n",
            " [ 0  0  0  0  0 19  6  3  0  0 11  1  3]\n",
            " [ 1  0  8  0  3  4 14  1  0  0  0  0  6]\n",
            " [ 0  0  0  0  0  1  0 24  0  9  2  5  0]\n",
            " [37  0  0  8  0  1  0  1  3  0  0  0  0]\n",
            " [ 1  0  0  0  0  0  0 11  0 22  1  8  0]\n",
            " [ 0  0  3  0  0 12  6  0  0  2 13  0  1]\n",
            " [ 0  0  0  0  0  1  0  8  0  8  2 17  1]\n",
            " [ 0  0  1  0  2  8 10  0  0  0  8  0 15]]\n",
            "Accuracy: 0.46715328467153283\n",
            "Classification Report:\n",
            "                   precision    recall  f1-score   support\n",
            "\n",
            "     Binance Coin       0.19      0.30      0.23        43\n",
            "          Bitcoin       1.00      1.00      1.00        39\n",
            "    Bitcoin Cash        0.52      0.57      0.54        44\n",
            "        Dogecoin        0.67      0.66      0.67        44\n",
            "         Ethereum       0.72      0.50      0.59        46\n",
            "Ethereum Classic        0.37      0.44      0.40        43\n",
            "         Litecoin       0.32      0.38      0.35        37\n",
            "      Pax Dollar        0.50      0.59      0.54        41\n",
            "           Ripple       0.13      0.06      0.08        50\n",
            "           Tether       0.54      0.51      0.52        43\n",
            "            Tezos       0.33      0.35      0.34        37\n",
            "        USD Coin        0.53      0.46      0.49        37\n",
            "            Zcash       0.39      0.34      0.37        44\n",
            "\n",
            "         accuracy                           0.47       548\n",
            "        macro avg       0.48      0.47      0.47       548\n",
            "     weighted avg       0.47      0.47      0.47       548\n",
            "\n",
            "-----------------------------------\n",
            "Gaussian NB Performance:\n",
            "Confusion Matrix:\n",
            "[[ 0  0  2  2  0  0  0  0 37  0  0  2  0]\n",
            " [ 0 39  0  0  0  0  0  0  0  0  0  0  0]\n",
            " [ 0  0 30  0  2  0  1  0  0  0  0  0 11]\n",
            " [ 0  0  0 42  0  0  0  0  2  0  0  0  0]\n",
            " [ 0  0 10  0 21  0  8  0  0  0  0  0  7]\n",
            " [ 1  0  0  0  0 26  1  0  0  0 14  0  1]\n",
            " [ 1  0  2  0  0  4  5  0  0  0  0  0 25]\n",
            " [ 0  0  0  0  0  0  0 37  0  0  0  4  0]\n",
            " [ 0  0  0  6  0  0  0  0 43  0  0  1  0]\n",
            " [ 0  0  0  0  0  0  0 31  0  0  0 12  0]\n",
            " [ 0  0  0  0  0  1  0  0  1  0 34  1  0]\n",
            " [ 0  0  0  0  0  0  0 25  0  0  3  9  0]\n",
            " [ 0  0  3  0  0  5  2  0  0  0  0  0 34]]\n",
            "Accuracy: 0.583941605839416\n",
            "Classification Report:\n",
            "                   precision    recall  f1-score   support\n",
            "\n",
            "     Binance Coin       0.00      0.00      0.00        43\n",
            "          Bitcoin       1.00      1.00      1.00        39\n",
            "    Bitcoin Cash        0.64      0.68      0.66        44\n",
            "        Dogecoin        0.84      0.95      0.89        44\n",
            "         Ethereum       0.91      0.46      0.61        46\n",
            "Ethereum Classic        0.72      0.60      0.66        43\n",
            "         Litecoin       0.29      0.14      0.19        37\n",
            "      Pax Dollar        0.40      0.90      0.55        41\n",
            "           Ripple       0.52      0.86      0.65        50\n",
            "           Tether       0.00      0.00      0.00        43\n",
            "            Tezos       0.67      0.92      0.77        37\n",
            "        USD Coin        0.31      0.24      0.27        37\n",
            "            Zcash       0.44      0.77      0.56        44\n",
            "\n",
            "         accuracy                           0.58       548\n",
            "        macro avg       0.52      0.58      0.52       548\n",
            "     weighted avg       0.52      0.58      0.53       548\n",
            "\n",
            "-----------------------------------\n",
            "Perceptron Performance:\n",
            "Confusion Matrix:\n",
            "[[ 0  0  0 12  0  0  0  0  0 26  5  0  0]\n",
            " [ 0 39  0  0  0  0  0  0  0  0  0  0  0]\n",
            " [ 1  0 11  0  0  0  0  0  1  7 24  0  0]\n",
            " [ 0  0  0 38  0  0  0  0  0  6  0  0  0]\n",
            " [ 0  6 19  0  0  0  0  0  1  1 19  0  0]\n",
            " [ 0  0  7  0  0  0  0  0  2  0 34  0  0]\n",
            " [ 0  0  3  0  0  0  0  0  2  2 30  0  0]\n",
            " [ 0  0  0  0  0  0  0  0  0  2 39  0  0]\n",
            " [ 0  0  0 21  0  0  0  0  0 28  1  0  0]\n",
            " [ 0  0  0  0  0  0  0  0  0  4 39  0  0]\n",
            " [ 0  0  3  0  0  0  0  0  2  0 32  0  0]\n",
            " [ 0  0  0  0  0  0  0  0  0  1 36  0  0]\n",
            " [ 0  0  4  0  0  0  0  0  2  0 38  0  0]]\n",
            "Accuracy: 0.22627737226277372\n",
            "Classification Report:\n",
            "                   precision    recall  f1-score   support\n",
            "\n",
            "     Binance Coin       0.00      0.00      0.00        43\n",
            "          Bitcoin       0.87      1.00      0.93        39\n",
            "    Bitcoin Cash        0.23      0.25      0.24        44\n",
            "        Dogecoin        0.54      0.86      0.66        44\n",
            "         Ethereum       0.00      0.00      0.00        46\n",
            "Ethereum Classic        0.00      0.00      0.00        43\n",
            "         Litecoin       0.00      0.00      0.00        37\n",
            "      Pax Dollar        0.00      0.00      0.00        41\n",
            "           Ripple       0.00      0.00      0.00        50\n",
            "           Tether       0.05      0.09      0.07        43\n",
            "            Tezos       0.11      0.86      0.19        37\n",
            "        USD Coin        0.00      0.00      0.00        37\n",
            "            Zcash       0.00      0.00      0.00        44\n",
            "\n",
            "         accuracy                           0.23       548\n",
            "        macro avg       0.14      0.24      0.16       548\n",
            "     weighted avg       0.13      0.23      0.16       548\n",
            "\n",
            "-----------------------------------\n"
          ]
        },
        {
          "output_type": "stream",
          "name": "stderr",
          "text": [
            "/usr/local/lib/python3.10/dist-packages/sklearn/metrics/_classification.py:1344: UndefinedMetricWarning: Precision and F-score are ill-defined and being set to 0.0 in labels with no predicted samples. Use `zero_division` parameter to control this behavior.\n",
            "  _warn_prf(average, modifier, msg_start, len(result))\n",
            "/usr/local/lib/python3.10/dist-packages/sklearn/metrics/_classification.py:1344: UndefinedMetricWarning: Precision and F-score are ill-defined and being set to 0.0 in labels with no predicted samples. Use `zero_division` parameter to control this behavior.\n",
            "  _warn_prf(average, modifier, msg_start, len(result))\n",
            "/usr/local/lib/python3.10/dist-packages/sklearn/metrics/_classification.py:1344: UndefinedMetricWarning: Precision and F-score are ill-defined and being set to 0.0 in labels with no predicted samples. Use `zero_division` parameter to control this behavior.\n",
            "  _warn_prf(average, modifier, msg_start, len(result))\n",
            "/usr/local/lib/python3.10/dist-packages/sklearn/metrics/_classification.py:1344: UndefinedMetricWarning: Precision and F-score are ill-defined and being set to 0.0 in labels with no predicted samples. Use `zero_division` parameter to control this behavior.\n",
            "  _warn_prf(average, modifier, msg_start, len(result))\n",
            "/usr/local/lib/python3.10/dist-packages/sklearn/metrics/_classification.py:1344: UndefinedMetricWarning: Precision and F-score are ill-defined and being set to 0.0 in labels with no predicted samples. Use `zero_division` parameter to control this behavior.\n",
            "  _warn_prf(average, modifier, msg_start, len(result))\n",
            "/usr/local/lib/python3.10/dist-packages/sklearn/metrics/_classification.py:1344: UndefinedMetricWarning: Precision and F-score are ill-defined and being set to 0.0 in labels with no predicted samples. Use `zero_division` parameter to control this behavior.\n",
            "  _warn_prf(average, modifier, msg_start, len(result))\n"
          ]
        },
        {
          "output_type": "stream",
          "name": "stdout",
          "text": [
            "Gradient Boosting Performance:\n",
            "Confusion Matrix:\n",
            "[[ 5  0  1  0  0  0  0  0 37  0  0  0  0]\n",
            " [ 0 39  0  0  0  0  0  0  0  0  0  0  0]\n",
            " [ 0  0 38  0  3  0  0  0  0  0  0  0  3]\n",
            " [ 0  0  0 43  0  0  0  0  1  0  0  0  0]\n",
            " [ 0  0  4  0 37  0  5  0  0  0  0  0  0]\n",
            " [ 0  0  0  0  0 38  3  0  0  0  1  0  1]\n",
            " [ 0  0  0  0  0  2 26  0  0  0  0  0  9]\n",
            " [ 0  0  0  0  0  0  0 28  0  8  0  5  0]\n",
            " [45  0  0  0  0  0  0  0  5  0  0  0  0]\n",
            " [ 0  0  0  0  0  0  0  6  0 28  0  9  0]\n",
            " [ 0  0  0  0  0  3  0  0  0  0 34  0  0]\n",
            " [ 0  0  0  0  0  0  0  5  0 12  0 20  0]\n",
            " [ 0  0  2  0  0  0  8  0  0  0  0  0 34]]\n",
            "Accuracy: 0.6843065693430657\n",
            "Classification Report:\n",
            "                   precision    recall  f1-score   support\n",
            "\n",
            "     Binance Coin       0.10      0.12      0.11        43\n",
            "          Bitcoin       1.00      1.00      1.00        39\n",
            "    Bitcoin Cash        0.84      0.86      0.85        44\n",
            "        Dogecoin        1.00      0.98      0.99        44\n",
            "         Ethereum       0.93      0.80      0.86        46\n",
            "Ethereum Classic        0.88      0.88      0.88        43\n",
            "         Litecoin       0.62      0.70      0.66        37\n",
            "      Pax Dollar        0.72      0.68      0.70        41\n",
            "           Ripple       0.12      0.10      0.11        50\n",
            "           Tether       0.58      0.65      0.62        43\n",
            "            Tezos       0.97      0.92      0.94        37\n",
            "        USD Coin        0.59      0.54      0.56        37\n",
            "            Zcash       0.72      0.77      0.75        44\n",
            "\n",
            "         accuracy                           0.68       548\n",
            "        macro avg       0.70      0.69      0.69       548\n",
            "     weighted avg       0.69      0.68      0.69       548\n",
            "\n",
            "-----------------------------------\n"
          ]
        }
      ]
    }
  ]
}