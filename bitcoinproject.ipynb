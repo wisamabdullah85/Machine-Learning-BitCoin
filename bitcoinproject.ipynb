{
  "nbformat": 4,
  "nbformat_minor": 0,
  "metadata": {
    "colab": {
      "provenance": []
    },
    "kernelspec": {
      "name": "python3",
      "display_name": "Python 3"
    },
    "language_info": {
      "name": "python"
    }
  },
  "cells": [
    {
      "cell_type": "code",
      "execution_count": 44,
      "metadata": {
        "id": "HdpAuqZ_Vqa0"
      },
      "outputs": [],
      "source": [
        "import pandas as pd\n",
        "import numpy as np\n",
        "import seaborn as sns\n",
        "import matplotlib.pyplot as plt\n",
        "from sklearn.model_selection import train_test_split\n",
        "from sklearn.preprocessing import StandardScaler\n",
        "from sklearn.tree import DecisionTreeClassifier\n",
        "from sklearn.linear_model import LogisticRegression\n",
        "from sklearn.neighbors import KNeighborsClassifier\n",
        "from sklearn.ensemble import RandomForestClassifier\n",
        "from sklearn.metrics import confusion_matrix\n",
        "from keras.models import Sequential\n",
        "from keras.layers import Dense\n",
        "from sklearn.impute import SimpleImputer\n",
        "from sklearn.metrics import accuracy_score\n",
        "from sklearn.preprocessing import StandardScaler, OneHotEncoder\n",
        "from sklearn.compose import ColumnTransformer\n",
        "from sklearn.pipeline import Pipeline\n"
      ]
    },
    {
      "cell_type": "code",
      "source": [
        "data = pd.read_csv('/content/datasetbcfinalmiss.csv')\n",
        "\n",
        "data1 = pd.read_csv('/content/preprocessed_dataset.csv')\n"
      ],
      "metadata": {
        "id": "YyY_lAVIizmL"
      },
      "execution_count": 45,
      "outputs": []
    },
    {
      "cell_type": "code",
      "source": [
        "data.head(10)"
      ],
      "metadata": {
        "colab": {
          "base_uri": "https://localhost:8080/",
          "height": 363
        },
        "id": "DSuzVv-7lR9M",
        "outputId": "bcb11351-cc52-4f30-ee52-096c943fa5e3"
      },
      "execution_count": 46,
      "outputs": [
        {
          "output_type": "execute_result",
          "data": {
            "text/plain": [
              "   Last Price  Open Price     Max     Min   Size  Change Persent    Class\n",
              "0      3597.2      3785.7  4070.5  3561.3   3.80          0.0497  Bitcoin\n",
              "1      3677.8      3597.3  3715.2  3473.2   3.50          0.0224  Bitcoin\n",
              "2      3570.9      3676.2  3699.1  3465.2   3.16          0.0291  Bitcoin\n",
              "3      3502.5      3570.9  3583.2  3368.2   3.68          0.0192  Bitcoin\n",
              "4      3661.4      3502.3  3721.1  3382.5   3.78          0.0454  Bitcoin\n",
              "5      3616.8      3661.0  3681.1  3580.2   3.65          0.0122  Bitcoin\n",
              "6      4120.4      3616.8  4152.6  3607.9   5.61          0.1392  Bitcoin\n",
              "7      3823.1      4120.5  4194.2  3701.9  12.42          0.0721  Bitcoin\n",
              "8      3944.3      3823.2  3964.0  3681.8  19.19          0.0317  Bitcoin\n",
              "9      4006.4      3944.4  4050.6  3817.1  19.44          0.0157  Bitcoin"
            ],
            "text/html": [
              "\n",
              "  <div id=\"df-c429308a-7bab-4a7d-ba1c-1bc5634ed687\" class=\"colab-df-container\">\n",
              "    <div>\n",
              "<style scoped>\n",
              "    .dataframe tbody tr th:only-of-type {\n",
              "        vertical-align: middle;\n",
              "    }\n",
              "\n",
              "    .dataframe tbody tr th {\n",
              "        vertical-align: top;\n",
              "    }\n",
              "\n",
              "    .dataframe thead th {\n",
              "        text-align: right;\n",
              "    }\n",
              "</style>\n",
              "<table border=\"1\" class=\"dataframe\">\n",
              "  <thead>\n",
              "    <tr style=\"text-align: right;\">\n",
              "      <th></th>\n",
              "      <th>Last Price</th>\n",
              "      <th>Open Price</th>\n",
              "      <th>Max</th>\n",
              "      <th>Min</th>\n",
              "      <th>Size</th>\n",
              "      <th>Change Persent</th>\n",
              "      <th>Class</th>\n",
              "    </tr>\n",
              "  </thead>\n",
              "  <tbody>\n",
              "    <tr>\n",
              "      <th>0</th>\n",
              "      <td>3597.2</td>\n",
              "      <td>3785.7</td>\n",
              "      <td>4070.5</td>\n",
              "      <td>3561.3</td>\n",
              "      <td>3.80</td>\n",
              "      <td>0.0497</td>\n",
              "      <td>Bitcoin</td>\n",
              "    </tr>\n",
              "    <tr>\n",
              "      <th>1</th>\n",
              "      <td>3677.8</td>\n",
              "      <td>3597.3</td>\n",
              "      <td>3715.2</td>\n",
              "      <td>3473.2</td>\n",
              "      <td>3.50</td>\n",
              "      <td>0.0224</td>\n",
              "      <td>Bitcoin</td>\n",
              "    </tr>\n",
              "    <tr>\n",
              "      <th>2</th>\n",
              "      <td>3570.9</td>\n",
              "      <td>3676.2</td>\n",
              "      <td>3699.1</td>\n",
              "      <td>3465.2</td>\n",
              "      <td>3.16</td>\n",
              "      <td>0.0291</td>\n",
              "      <td>Bitcoin</td>\n",
              "    </tr>\n",
              "    <tr>\n",
              "      <th>3</th>\n",
              "      <td>3502.5</td>\n",
              "      <td>3570.9</td>\n",
              "      <td>3583.2</td>\n",
              "      <td>3368.2</td>\n",
              "      <td>3.68</td>\n",
              "      <td>0.0192</td>\n",
              "      <td>Bitcoin</td>\n",
              "    </tr>\n",
              "    <tr>\n",
              "      <th>4</th>\n",
              "      <td>3661.4</td>\n",
              "      <td>3502.3</td>\n",
              "      <td>3721.1</td>\n",
              "      <td>3382.5</td>\n",
              "      <td>3.78</td>\n",
              "      <td>0.0454</td>\n",
              "      <td>Bitcoin</td>\n",
              "    </tr>\n",
              "    <tr>\n",
              "      <th>5</th>\n",
              "      <td>3616.8</td>\n",
              "      <td>3661.0</td>\n",
              "      <td>3681.1</td>\n",
              "      <td>3580.2</td>\n",
              "      <td>3.65</td>\n",
              "      <td>0.0122</td>\n",
              "      <td>Bitcoin</td>\n",
              "    </tr>\n",
              "    <tr>\n",
              "      <th>6</th>\n",
              "      <td>4120.4</td>\n",
              "      <td>3616.8</td>\n",
              "      <td>4152.6</td>\n",
              "      <td>3607.9</td>\n",
              "      <td>5.61</td>\n",
              "      <td>0.1392</td>\n",
              "      <td>Bitcoin</td>\n",
              "    </tr>\n",
              "    <tr>\n",
              "      <th>7</th>\n",
              "      <td>3823.1</td>\n",
              "      <td>4120.5</td>\n",
              "      <td>4194.2</td>\n",
              "      <td>3701.9</td>\n",
              "      <td>12.42</td>\n",
              "      <td>0.0721</td>\n",
              "      <td>Bitcoin</td>\n",
              "    </tr>\n",
              "    <tr>\n",
              "      <th>8</th>\n",
              "      <td>3944.3</td>\n",
              "      <td>3823.2</td>\n",
              "      <td>3964.0</td>\n",
              "      <td>3681.8</td>\n",
              "      <td>19.19</td>\n",
              "      <td>0.0317</td>\n",
              "      <td>Bitcoin</td>\n",
              "    </tr>\n",
              "    <tr>\n",
              "      <th>9</th>\n",
              "      <td>4006.4</td>\n",
              "      <td>3944.4</td>\n",
              "      <td>4050.6</td>\n",
              "      <td>3817.1</td>\n",
              "      <td>19.44</td>\n",
              "      <td>0.0157</td>\n",
              "      <td>Bitcoin</td>\n",
              "    </tr>\n",
              "  </tbody>\n",
              "</table>\n",
              "</div>\n",
              "    <div class=\"colab-df-buttons\">\n",
              "\n",
              "  <div class=\"colab-df-container\">\n",
              "    <button class=\"colab-df-convert\" onclick=\"convertToInteractive('df-c429308a-7bab-4a7d-ba1c-1bc5634ed687')\"\n",
              "            title=\"Convert this dataframe to an interactive table.\"\n",
              "            style=\"display:none;\">\n",
              "\n",
              "  <svg xmlns=\"http://www.w3.org/2000/svg\" height=\"24px\" viewBox=\"0 -960 960 960\">\n",
              "    <path d=\"M120-120v-720h720v720H120Zm60-500h600v-160H180v160Zm220 220h160v-160H400v160Zm0 220h160v-160H400v160ZM180-400h160v-160H180v160Zm440 0h160v-160H620v160ZM180-180h160v-160H180v160Zm440 0h160v-160H620v160Z\"/>\n",
              "  </svg>\n",
              "    </button>\n",
              "\n",
              "  <style>\n",
              "    .colab-df-container {\n",
              "      display:flex;\n",
              "      gap: 12px;\n",
              "    }\n",
              "\n",
              "    .colab-df-convert {\n",
              "      background-color: #E8F0FE;\n",
              "      border: none;\n",
              "      border-radius: 50%;\n",
              "      cursor: pointer;\n",
              "      display: none;\n",
              "      fill: #1967D2;\n",
              "      height: 32px;\n",
              "      padding: 0 0 0 0;\n",
              "      width: 32px;\n",
              "    }\n",
              "\n",
              "    .colab-df-convert:hover {\n",
              "      background-color: #E2EBFA;\n",
              "      box-shadow: 0px 1px 2px rgba(60, 64, 67, 0.3), 0px 1px 3px 1px rgba(60, 64, 67, 0.15);\n",
              "      fill: #174EA6;\n",
              "    }\n",
              "\n",
              "    .colab-df-buttons div {\n",
              "      margin-bottom: 4px;\n",
              "    }\n",
              "\n",
              "    [theme=dark] .colab-df-convert {\n",
              "      background-color: #3B4455;\n",
              "      fill: #D2E3FC;\n",
              "    }\n",
              "\n",
              "    [theme=dark] .colab-df-convert:hover {\n",
              "      background-color: #434B5C;\n",
              "      box-shadow: 0px 1px 3px 1px rgba(0, 0, 0, 0.15);\n",
              "      filter: drop-shadow(0px 1px 2px rgba(0, 0, 0, 0.3));\n",
              "      fill: #FFFFFF;\n",
              "    }\n",
              "  </style>\n",
              "\n",
              "    <script>\n",
              "      const buttonEl =\n",
              "        document.querySelector('#df-c429308a-7bab-4a7d-ba1c-1bc5634ed687 button.colab-df-convert');\n",
              "      buttonEl.style.display =\n",
              "        google.colab.kernel.accessAllowed ? 'block' : 'none';\n",
              "\n",
              "      async function convertToInteractive(key) {\n",
              "        const element = document.querySelector('#df-c429308a-7bab-4a7d-ba1c-1bc5634ed687');\n",
              "        const dataTable =\n",
              "          await google.colab.kernel.invokeFunction('convertToInteractive',\n",
              "                                                    [key], {});\n",
              "        if (!dataTable) return;\n",
              "\n",
              "        const docLinkHtml = 'Like what you see? Visit the ' +\n",
              "          '<a target=\"_blank\" href=https://colab.research.google.com/notebooks/data_table.ipynb>data table notebook</a>'\n",
              "          + ' to learn more about interactive tables.';\n",
              "        element.innerHTML = '';\n",
              "        dataTable['output_type'] = 'display_data';\n",
              "        await google.colab.output.renderOutput(dataTable, element);\n",
              "        const docLink = document.createElement('div');\n",
              "        docLink.innerHTML = docLinkHtml;\n",
              "        element.appendChild(docLink);\n",
              "      }\n",
              "    </script>\n",
              "  </div>\n",
              "\n",
              "\n",
              "<div id=\"df-37462085-399a-4490-a286-bbdf8207464a\">\n",
              "  <button class=\"colab-df-quickchart\" onclick=\"quickchart('df-37462085-399a-4490-a286-bbdf8207464a')\"\n",
              "            title=\"Suggest charts\"\n",
              "            style=\"display:none;\">\n",
              "\n",
              "<svg xmlns=\"http://www.w3.org/2000/svg\" height=\"24px\"viewBox=\"0 0 24 24\"\n",
              "     width=\"24px\">\n",
              "    <g>\n",
              "        <path d=\"M19 3H5c-1.1 0-2 .9-2 2v14c0 1.1.9 2 2 2h14c1.1 0 2-.9 2-2V5c0-1.1-.9-2-2-2zM9 17H7v-7h2v7zm4 0h-2V7h2v10zm4 0h-2v-4h2v4z\"/>\n",
              "    </g>\n",
              "</svg>\n",
              "  </button>\n",
              "\n",
              "<style>\n",
              "  .colab-df-quickchart {\n",
              "      --bg-color: #E8F0FE;\n",
              "      --fill-color: #1967D2;\n",
              "      --hover-bg-color: #E2EBFA;\n",
              "      --hover-fill-color: #174EA6;\n",
              "      --disabled-fill-color: #AAA;\n",
              "      --disabled-bg-color: #DDD;\n",
              "  }\n",
              "\n",
              "  [theme=dark] .colab-df-quickchart {\n",
              "      --bg-color: #3B4455;\n",
              "      --fill-color: #D2E3FC;\n",
              "      --hover-bg-color: #434B5C;\n",
              "      --hover-fill-color: #FFFFFF;\n",
              "      --disabled-bg-color: #3B4455;\n",
              "      --disabled-fill-color: #666;\n",
              "  }\n",
              "\n",
              "  .colab-df-quickchart {\n",
              "    background-color: var(--bg-color);\n",
              "    border: none;\n",
              "    border-radius: 50%;\n",
              "    cursor: pointer;\n",
              "    display: none;\n",
              "    fill: var(--fill-color);\n",
              "    height: 32px;\n",
              "    padding: 0;\n",
              "    width: 32px;\n",
              "  }\n",
              "\n",
              "  .colab-df-quickchart:hover {\n",
              "    background-color: var(--hover-bg-color);\n",
              "    box-shadow: 0 1px 2px rgba(60, 64, 67, 0.3), 0 1px 3px 1px rgba(60, 64, 67, 0.15);\n",
              "    fill: var(--button-hover-fill-color);\n",
              "  }\n",
              "\n",
              "  .colab-df-quickchart-complete:disabled,\n",
              "  .colab-df-quickchart-complete:disabled:hover {\n",
              "    background-color: var(--disabled-bg-color);\n",
              "    fill: var(--disabled-fill-color);\n",
              "    box-shadow: none;\n",
              "  }\n",
              "\n",
              "  .colab-df-spinner {\n",
              "    border: 2px solid var(--fill-color);\n",
              "    border-color: transparent;\n",
              "    border-bottom-color: var(--fill-color);\n",
              "    animation:\n",
              "      spin 1s steps(1) infinite;\n",
              "  }\n",
              "\n",
              "  @keyframes spin {\n",
              "    0% {\n",
              "      border-color: transparent;\n",
              "      border-bottom-color: var(--fill-color);\n",
              "      border-left-color: var(--fill-color);\n",
              "    }\n",
              "    20% {\n",
              "      border-color: transparent;\n",
              "      border-left-color: var(--fill-color);\n",
              "      border-top-color: var(--fill-color);\n",
              "    }\n",
              "    30% {\n",
              "      border-color: transparent;\n",
              "      border-left-color: var(--fill-color);\n",
              "      border-top-color: var(--fill-color);\n",
              "      border-right-color: var(--fill-color);\n",
              "    }\n",
              "    40% {\n",
              "      border-color: transparent;\n",
              "      border-right-color: var(--fill-color);\n",
              "      border-top-color: var(--fill-color);\n",
              "    }\n",
              "    60% {\n",
              "      border-color: transparent;\n",
              "      border-right-color: var(--fill-color);\n",
              "    }\n",
              "    80% {\n",
              "      border-color: transparent;\n",
              "      border-right-color: var(--fill-color);\n",
              "      border-bottom-color: var(--fill-color);\n",
              "    }\n",
              "    90% {\n",
              "      border-color: transparent;\n",
              "      border-bottom-color: var(--fill-color);\n",
              "    }\n",
              "  }\n",
              "</style>\n",
              "\n",
              "  <script>\n",
              "    async function quickchart(key) {\n",
              "      const quickchartButtonEl =\n",
              "        document.querySelector('#' + key + ' button');\n",
              "      quickchartButtonEl.disabled = true;  // To prevent multiple clicks.\n",
              "      quickchartButtonEl.classList.add('colab-df-spinner');\n",
              "      try {\n",
              "        const charts = await google.colab.kernel.invokeFunction(\n",
              "            'suggestCharts', [key], {});\n",
              "      } catch (error) {\n",
              "        console.error('Error during call to suggestCharts:', error);\n",
              "      }\n",
              "      quickchartButtonEl.classList.remove('colab-df-spinner');\n",
              "      quickchartButtonEl.classList.add('colab-df-quickchart-complete');\n",
              "    }\n",
              "    (() => {\n",
              "      let quickchartButtonEl =\n",
              "        document.querySelector('#df-37462085-399a-4490-a286-bbdf8207464a button');\n",
              "      quickchartButtonEl.style.display =\n",
              "        google.colab.kernel.accessAllowed ? 'block' : 'none';\n",
              "    })();\n",
              "  </script>\n",
              "</div>\n",
              "\n",
              "    </div>\n",
              "  </div>\n"
            ],
            "application/vnd.google.colaboratory.intrinsic+json": {
              "type": "dataframe",
              "variable_name": "data",
              "summary": "{\n  \"name\": \"data\",\n  \"rows\": 2740,\n  \"fields\": [\n    {\n      \"column\": \"Last Price\",\n      \"properties\": {\n        \"dtype\": \"number\",\n        \"std\": 7942.475462393915,\n        \"min\": 0.001687,\n        \"max\": 64398.6,\n        \"num_unique_values\": 2010,\n        \"samples\": [\n          2.97934,\n          0.63303,\n          1695.97\n        ],\n        \"semantic_type\": \"\",\n        \"description\": \"\"\n      }\n    },\n    {\n      \"column\": \"Open Price\",\n      \"properties\": {\n        \"dtype\": \"number\",\n        \"std\": 7881.037023638887,\n        \"min\": 0.001687,\n        \"max\": 64397.2,\n        \"num_unique_values\": 2018,\n        \"samples\": [\n          1.006,\n          0.63352,\n          1695.99\n        ],\n        \"semantic_type\": \"\",\n        \"description\": \"\"\n      }\n    },\n    {\n      \"column\": \"Max\",\n      \"properties\": {\n        \"dtype\": \"number\",\n        \"std\": 8474.909262039562,\n        \"min\": 0.001925,\n        \"max\": 68990.6,\n        \"num_unique_values\": 2073,\n        \"samples\": [\n          147.61,\n          1.86391,\n          44.2449\n        ],\n        \"semantic_type\": \"\",\n        \"description\": \"\"\n      }\n    },\n    {\n      \"column\": \"Min\",\n      \"properties\": {\n        \"dtype\": \"number\",\n        \"std\": 7241.345497619234,\n        \"min\": 0.001291,\n        \"max\": 61347.2,\n        \"num_unique_values\": 2060,\n        \"samples\": [\n          2.56385,\n          0.33665,\n          1.40206\n        ],\n        \"semantic_type\": \"\",\n        \"description\": \"\"\n      }\n    },\n    {\n      \"column\": \"Size\",\n      \"properties\": {\n        \"dtype\": \"number\",\n        \"std\": 216.48421180422244,\n        \"min\": 1.0,\n        \"max\": 992.61,\n        \"num_unique_values\": 2030,\n        \"samples\": [\n          6.49,\n          58.01,\n          938.84\n        ],\n        \"semantic_type\": \"\",\n        \"description\": \"\"\n      }\n    },\n    {\n      \"column\": \"Change Persent\",\n      \"properties\": {\n        \"dtype\": \"number\",\n        \"std\": 16252.399715334877,\n        \"min\": 0.0,\n        \"max\": 90000.0,\n        \"num_unique_values\": 1275,\n        \"samples\": [\n          0.1171,\n          0.275,\n          0.2517\n        ],\n        \"semantic_type\": \"\",\n        \"description\": \"\"\n      }\n    },\n    {\n      \"column\": \"Class\",\n      \"properties\": {\n        \"dtype\": \"category\",\n        \"num_unique_values\": 13,\n        \"samples\": [\n          \"Dogecoin \",\n          \"Pax Dollar \",\n          \"Bitcoin\"\n        ],\n        \"semantic_type\": \"\",\n        \"description\": \"\"\n      }\n    }\n  ]\n}"
            }
          },
          "metadata": {},
          "execution_count": 46
        }
      ]
    },
    {
      "cell_type": "code",
      "source": [
        "data.describe()"
      ],
      "metadata": {
        "colab": {
          "base_uri": "https://localhost:8080/",
          "height": 300
        },
        "id": "xt5nAKXrmB8w",
        "outputId": "60042034-c719-4818-87af-48f4552e8ba2"
      },
      "execution_count": 47,
      "outputs": [
        {
          "output_type": "execute_result",
          "data": {
            "text/plain": [
              "         Last Price    Open Price           Max           Min         Size  \\\n",
              "count   2698.000000   2740.000000   2740.000000   2740.000000  2738.000000   \n",
              "mean    1972.090376   1937.333705   2088.396625   1781.707454   113.561150   \n",
              "std     7942.475462   7881.037024   8474.909262   7241.345498   216.484212   \n",
              "min        0.001687      0.001687      0.001925      0.001291     1.000000   \n",
              "25%        0.998400      0.998400      1.000300      0.985375     4.825000   \n",
              "50%        2.898750      2.398770      2.785490      2.135680    15.400000   \n",
              "75%      143.717750    141.187500    156.156500    121.655000    96.662500   \n",
              "max    64398.600000  64397.200000  68990.600000  61347.200000   992.610000   \n",
              "\n",
              "       Change Persent  \n",
              "count     2740.000000  \n",
              "mean      5474.532281  \n",
              "std      16252.399715  \n",
              "min          0.000000  \n",
              "25%          0.024300  \n",
              "50%          0.072500  \n",
              "75%          0.183475  \n",
              "max      90000.000000  "
            ],
            "text/html": [
              "\n",
              "  <div id=\"df-8aae8288-21d4-4b97-83eb-8d0a94abb84e\" class=\"colab-df-container\">\n",
              "    <div>\n",
              "<style scoped>\n",
              "    .dataframe tbody tr th:only-of-type {\n",
              "        vertical-align: middle;\n",
              "    }\n",
              "\n",
              "    .dataframe tbody tr th {\n",
              "        vertical-align: top;\n",
              "    }\n",
              "\n",
              "    .dataframe thead th {\n",
              "        text-align: right;\n",
              "    }\n",
              "</style>\n",
              "<table border=\"1\" class=\"dataframe\">\n",
              "  <thead>\n",
              "    <tr style=\"text-align: right;\">\n",
              "      <th></th>\n",
              "      <th>Last Price</th>\n",
              "      <th>Open Price</th>\n",
              "      <th>Max</th>\n",
              "      <th>Min</th>\n",
              "      <th>Size</th>\n",
              "      <th>Change Persent</th>\n",
              "    </tr>\n",
              "  </thead>\n",
              "  <tbody>\n",
              "    <tr>\n",
              "      <th>count</th>\n",
              "      <td>2698.000000</td>\n",
              "      <td>2740.000000</td>\n",
              "      <td>2740.000000</td>\n",
              "      <td>2740.000000</td>\n",
              "      <td>2738.000000</td>\n",
              "      <td>2740.000000</td>\n",
              "    </tr>\n",
              "    <tr>\n",
              "      <th>mean</th>\n",
              "      <td>1972.090376</td>\n",
              "      <td>1937.333705</td>\n",
              "      <td>2088.396625</td>\n",
              "      <td>1781.707454</td>\n",
              "      <td>113.561150</td>\n",
              "      <td>5474.532281</td>\n",
              "    </tr>\n",
              "    <tr>\n",
              "      <th>std</th>\n",
              "      <td>7942.475462</td>\n",
              "      <td>7881.037024</td>\n",
              "      <td>8474.909262</td>\n",
              "      <td>7241.345498</td>\n",
              "      <td>216.484212</td>\n",
              "      <td>16252.399715</td>\n",
              "    </tr>\n",
              "    <tr>\n",
              "      <th>min</th>\n",
              "      <td>0.001687</td>\n",
              "      <td>0.001687</td>\n",
              "      <td>0.001925</td>\n",
              "      <td>0.001291</td>\n",
              "      <td>1.000000</td>\n",
              "      <td>0.000000</td>\n",
              "    </tr>\n",
              "    <tr>\n",
              "      <th>25%</th>\n",
              "      <td>0.998400</td>\n",
              "      <td>0.998400</td>\n",
              "      <td>1.000300</td>\n",
              "      <td>0.985375</td>\n",
              "      <td>4.825000</td>\n",
              "      <td>0.024300</td>\n",
              "    </tr>\n",
              "    <tr>\n",
              "      <th>50%</th>\n",
              "      <td>2.898750</td>\n",
              "      <td>2.398770</td>\n",
              "      <td>2.785490</td>\n",
              "      <td>2.135680</td>\n",
              "      <td>15.400000</td>\n",
              "      <td>0.072500</td>\n",
              "    </tr>\n",
              "    <tr>\n",
              "      <th>75%</th>\n",
              "      <td>143.717750</td>\n",
              "      <td>141.187500</td>\n",
              "      <td>156.156500</td>\n",
              "      <td>121.655000</td>\n",
              "      <td>96.662500</td>\n",
              "      <td>0.183475</td>\n",
              "    </tr>\n",
              "    <tr>\n",
              "      <th>max</th>\n",
              "      <td>64398.600000</td>\n",
              "      <td>64397.200000</td>\n",
              "      <td>68990.600000</td>\n",
              "      <td>61347.200000</td>\n",
              "      <td>992.610000</td>\n",
              "      <td>90000.000000</td>\n",
              "    </tr>\n",
              "  </tbody>\n",
              "</table>\n",
              "</div>\n",
              "    <div class=\"colab-df-buttons\">\n",
              "\n",
              "  <div class=\"colab-df-container\">\n",
              "    <button class=\"colab-df-convert\" onclick=\"convertToInteractive('df-8aae8288-21d4-4b97-83eb-8d0a94abb84e')\"\n",
              "            title=\"Convert this dataframe to an interactive table.\"\n",
              "            style=\"display:none;\">\n",
              "\n",
              "  <svg xmlns=\"http://www.w3.org/2000/svg\" height=\"24px\" viewBox=\"0 -960 960 960\">\n",
              "    <path d=\"M120-120v-720h720v720H120Zm60-500h600v-160H180v160Zm220 220h160v-160H400v160Zm0 220h160v-160H400v160ZM180-400h160v-160H180v160Zm440 0h160v-160H620v160ZM180-180h160v-160H180v160Zm440 0h160v-160H620v160Z\"/>\n",
              "  </svg>\n",
              "    </button>\n",
              "\n",
              "  <style>\n",
              "    .colab-df-container {\n",
              "      display:flex;\n",
              "      gap: 12px;\n",
              "    }\n",
              "\n",
              "    .colab-df-convert {\n",
              "      background-color: #E8F0FE;\n",
              "      border: none;\n",
              "      border-radius: 50%;\n",
              "      cursor: pointer;\n",
              "      display: none;\n",
              "      fill: #1967D2;\n",
              "      height: 32px;\n",
              "      padding: 0 0 0 0;\n",
              "      width: 32px;\n",
              "    }\n",
              "\n",
              "    .colab-df-convert:hover {\n",
              "      background-color: #E2EBFA;\n",
              "      box-shadow: 0px 1px 2px rgba(60, 64, 67, 0.3), 0px 1px 3px 1px rgba(60, 64, 67, 0.15);\n",
              "      fill: #174EA6;\n",
              "    }\n",
              "\n",
              "    .colab-df-buttons div {\n",
              "      margin-bottom: 4px;\n",
              "    }\n",
              "\n",
              "    [theme=dark] .colab-df-convert {\n",
              "      background-color: #3B4455;\n",
              "      fill: #D2E3FC;\n",
              "    }\n",
              "\n",
              "    [theme=dark] .colab-df-convert:hover {\n",
              "      background-color: #434B5C;\n",
              "      box-shadow: 0px 1px 3px 1px rgba(0, 0, 0, 0.15);\n",
              "      filter: drop-shadow(0px 1px 2px rgba(0, 0, 0, 0.3));\n",
              "      fill: #FFFFFF;\n",
              "    }\n",
              "  </style>\n",
              "\n",
              "    <script>\n",
              "      const buttonEl =\n",
              "        document.querySelector('#df-8aae8288-21d4-4b97-83eb-8d0a94abb84e button.colab-df-convert');\n",
              "      buttonEl.style.display =\n",
              "        google.colab.kernel.accessAllowed ? 'block' : 'none';\n",
              "\n",
              "      async function convertToInteractive(key) {\n",
              "        const element = document.querySelector('#df-8aae8288-21d4-4b97-83eb-8d0a94abb84e');\n",
              "        const dataTable =\n",
              "          await google.colab.kernel.invokeFunction('convertToInteractive',\n",
              "                                                    [key], {});\n",
              "        if (!dataTable) return;\n",
              "\n",
              "        const docLinkHtml = 'Like what you see? Visit the ' +\n",
              "          '<a target=\"_blank\" href=https://colab.research.google.com/notebooks/data_table.ipynb>data table notebook</a>'\n",
              "          + ' to learn more about interactive tables.';\n",
              "        element.innerHTML = '';\n",
              "        dataTable['output_type'] = 'display_data';\n",
              "        await google.colab.output.renderOutput(dataTable, element);\n",
              "        const docLink = document.createElement('div');\n",
              "        docLink.innerHTML = docLinkHtml;\n",
              "        element.appendChild(docLink);\n",
              "      }\n",
              "    </script>\n",
              "  </div>\n",
              "\n",
              "\n",
              "<div id=\"df-6035e016-417a-4d17-9eea-366b940dc37a\">\n",
              "  <button class=\"colab-df-quickchart\" onclick=\"quickchart('df-6035e016-417a-4d17-9eea-366b940dc37a')\"\n",
              "            title=\"Suggest charts\"\n",
              "            style=\"display:none;\">\n",
              "\n",
              "<svg xmlns=\"http://www.w3.org/2000/svg\" height=\"24px\"viewBox=\"0 0 24 24\"\n",
              "     width=\"24px\">\n",
              "    <g>\n",
              "        <path d=\"M19 3H5c-1.1 0-2 .9-2 2v14c0 1.1.9 2 2 2h14c1.1 0 2-.9 2-2V5c0-1.1-.9-2-2-2zM9 17H7v-7h2v7zm4 0h-2V7h2v10zm4 0h-2v-4h2v4z\"/>\n",
              "    </g>\n",
              "</svg>\n",
              "  </button>\n",
              "\n",
              "<style>\n",
              "  .colab-df-quickchart {\n",
              "      --bg-color: #E8F0FE;\n",
              "      --fill-color: #1967D2;\n",
              "      --hover-bg-color: #E2EBFA;\n",
              "      --hover-fill-color: #174EA6;\n",
              "      --disabled-fill-color: #AAA;\n",
              "      --disabled-bg-color: #DDD;\n",
              "  }\n",
              "\n",
              "  [theme=dark] .colab-df-quickchart {\n",
              "      --bg-color: #3B4455;\n",
              "      --fill-color: #D2E3FC;\n",
              "      --hover-bg-color: #434B5C;\n",
              "      --hover-fill-color: #FFFFFF;\n",
              "      --disabled-bg-color: #3B4455;\n",
              "      --disabled-fill-color: #666;\n",
              "  }\n",
              "\n",
              "  .colab-df-quickchart {\n",
              "    background-color: var(--bg-color);\n",
              "    border: none;\n",
              "    border-radius: 50%;\n",
              "    cursor: pointer;\n",
              "    display: none;\n",
              "    fill: var(--fill-color);\n",
              "    height: 32px;\n",
              "    padding: 0;\n",
              "    width: 32px;\n",
              "  }\n",
              "\n",
              "  .colab-df-quickchart:hover {\n",
              "    background-color: var(--hover-bg-color);\n",
              "    box-shadow: 0 1px 2px rgba(60, 64, 67, 0.3), 0 1px 3px 1px rgba(60, 64, 67, 0.15);\n",
              "    fill: var(--button-hover-fill-color);\n",
              "  }\n",
              "\n",
              "  .colab-df-quickchart-complete:disabled,\n",
              "  .colab-df-quickchart-complete:disabled:hover {\n",
              "    background-color: var(--disabled-bg-color);\n",
              "    fill: var(--disabled-fill-color);\n",
              "    box-shadow: none;\n",
              "  }\n",
              "\n",
              "  .colab-df-spinner {\n",
              "    border: 2px solid var(--fill-color);\n",
              "    border-color: transparent;\n",
              "    border-bottom-color: var(--fill-color);\n",
              "    animation:\n",
              "      spin 1s steps(1) infinite;\n",
              "  }\n",
              "\n",
              "  @keyframes spin {\n",
              "    0% {\n",
              "      border-color: transparent;\n",
              "      border-bottom-color: var(--fill-color);\n",
              "      border-left-color: var(--fill-color);\n",
              "    }\n",
              "    20% {\n",
              "      border-color: transparent;\n",
              "      border-left-color: var(--fill-color);\n",
              "      border-top-color: var(--fill-color);\n",
              "    }\n",
              "    30% {\n",
              "      border-color: transparent;\n",
              "      border-left-color: var(--fill-color);\n",
              "      border-top-color: var(--fill-color);\n",
              "      border-right-color: var(--fill-color);\n",
              "    }\n",
              "    40% {\n",
              "      border-color: transparent;\n",
              "      border-right-color: var(--fill-color);\n",
              "      border-top-color: var(--fill-color);\n",
              "    }\n",
              "    60% {\n",
              "      border-color: transparent;\n",
              "      border-right-color: var(--fill-color);\n",
              "    }\n",
              "    80% {\n",
              "      border-color: transparent;\n",
              "      border-right-color: var(--fill-color);\n",
              "      border-bottom-color: var(--fill-color);\n",
              "    }\n",
              "    90% {\n",
              "      border-color: transparent;\n",
              "      border-bottom-color: var(--fill-color);\n",
              "    }\n",
              "  }\n",
              "</style>\n",
              "\n",
              "  <script>\n",
              "    async function quickchart(key) {\n",
              "      const quickchartButtonEl =\n",
              "        document.querySelector('#' + key + ' button');\n",
              "      quickchartButtonEl.disabled = true;  // To prevent multiple clicks.\n",
              "      quickchartButtonEl.classList.add('colab-df-spinner');\n",
              "      try {\n",
              "        const charts = await google.colab.kernel.invokeFunction(\n",
              "            'suggestCharts', [key], {});\n",
              "      } catch (error) {\n",
              "        console.error('Error during call to suggestCharts:', error);\n",
              "      }\n",
              "      quickchartButtonEl.classList.remove('colab-df-spinner');\n",
              "      quickchartButtonEl.classList.add('colab-df-quickchart-complete');\n",
              "    }\n",
              "    (() => {\n",
              "      let quickchartButtonEl =\n",
              "        document.querySelector('#df-6035e016-417a-4d17-9eea-366b940dc37a button');\n",
              "      quickchartButtonEl.style.display =\n",
              "        google.colab.kernel.accessAllowed ? 'block' : 'none';\n",
              "    })();\n",
              "  </script>\n",
              "</div>\n",
              "\n",
              "    </div>\n",
              "  </div>\n"
            ],
            "application/vnd.google.colaboratory.intrinsic+json": {
              "type": "dataframe",
              "summary": "{\n  \"name\": \"data\",\n  \"rows\": 8,\n  \"fields\": [\n    {\n      \"column\": \"Last Price\",\n      \"properties\": {\n        \"dtype\": \"number\",\n        \"std\": 22287.94322978188,\n        \"min\": 0.001687,\n        \"max\": 64398.6,\n        \"num_unique_values\": 8,\n        \"samples\": [\n          1972.0903762635285,\n          2.8987499999999997,\n          2698.0\n        ],\n        \"semantic_type\": \"\",\n        \"description\": \"\"\n      }\n    },\n    {\n      \"column\": \"Open Price\",\n      \"properties\": {\n        \"dtype\": \"number\",\n        \"std\": 22288.16674229805,\n        \"min\": 0.001687,\n        \"max\": 64397.2,\n        \"num_unique_values\": 8,\n        \"samples\": [\n          1937.333704832117,\n          2.39877,\n          2740.0\n        ],\n        \"semantic_type\": \"\",\n        \"description\": \"\"\n      }\n    },\n    {\n      \"column\": \"Max\",\n      \"properties\": {\n        \"dtype\": \"number\",\n        \"std\": 23885.413046636433,\n        \"min\": 0.001925,\n        \"max\": 68990.6,\n        \"num_unique_values\": 8,\n        \"samples\": [\n          2088.396624693066,\n          2.7854900000000002,\n          2740.0\n        ],\n        \"semantic_type\": \"\",\n        \"description\": \"\"\n      }\n    },\n    {\n      \"column\": \"Min\",\n      \"properties\": {\n        \"dtype\": \"number\",\n        \"std\": 21234.04177775088,\n        \"min\": 0.001291,\n        \"max\": 61347.2,\n        \"num_unique_values\": 8,\n        \"samples\": [\n          1781.7074544821173,\n          2.13568,\n          2740.0\n        ],\n        \"semantic_type\": \"\",\n        \"description\": \"\"\n      }\n    },\n    {\n      \"column\": \"Size\",\n      \"properties\": {\n        \"dtype\": \"number\",\n        \"std\": 953.8461753793755,\n        \"min\": 1.0,\n        \"max\": 2738.0,\n        \"num_unique_values\": 8,\n        \"samples\": [\n          113.56115047479912,\n          15.4,\n          2738.0\n        ],\n        \"semantic_type\": \"\",\n        \"description\": \"\"\n      }\n    },\n    {\n      \"column\": \"Change Persent\",\n      \"properties\": {\n        \"dtype\": \"number\",\n        \"std\": 31084.621288596816,\n        \"min\": 0.0,\n        \"max\": 90000.0,\n        \"num_unique_values\": 8,\n        \"samples\": [\n          5474.532281423358,\n          0.07250000000000001,\n          2740.0\n        ],\n        \"semantic_type\": \"\",\n        \"description\": \"\"\n      }\n    }\n  ]\n}"
            }
          },
          "metadata": {},
          "execution_count": 47
        }
      ]
    },
    {
      "cell_type": "code",
      "source": [
        "data.info()"
      ],
      "metadata": {
        "colab": {
          "base_uri": "https://localhost:8080/"
        },
        "id": "QaB40Pkum9SU",
        "outputId": "be16717f-ce32-4b3b-f7b2-e23ace0c8cf3"
      },
      "execution_count": 48,
      "outputs": [
        {
          "output_type": "stream",
          "name": "stdout",
          "text": [
            "<class 'pandas.core.frame.DataFrame'>\n",
            "RangeIndex: 2740 entries, 0 to 2739\n",
            "Data columns (total 7 columns):\n",
            " #   Column          Non-Null Count  Dtype  \n",
            "---  ------          --------------  -----  \n",
            " 0   Last Price      2698 non-null   float64\n",
            " 1   Open Price      2740 non-null   float64\n",
            " 2   Max             2740 non-null   float64\n",
            " 3   Min             2740 non-null   float64\n",
            " 4   Size            2738 non-null   float64\n",
            " 5   Change Persent  2740 non-null   float64\n",
            " 6   Class           2740 non-null   object \n",
            "dtypes: float64(6), object(1)\n",
            "memory usage: 150.0+ KB\n"
          ]
        }
      ]
    },
    {
      "cell_type": "code",
      "source": [
        "data.shape"
      ],
      "metadata": {
        "colab": {
          "base_uri": "https://localhost:8080/"
        },
        "id": "YXc1vaSO9x1S",
        "outputId": "a2fe68cb-bdb4-4824-c48d-821007f691a8"
      },
      "execution_count": 49,
      "outputs": [
        {
          "output_type": "execute_result",
          "data": {
            "text/plain": [
              "(2740, 7)"
            ]
          },
          "metadata": {},
          "execution_count": 49
        }
      ]
    },
    {
      "cell_type": "code",
      "source": [
        "data.columns"
      ],
      "metadata": {
        "colab": {
          "base_uri": "https://localhost:8080/"
        },
        "id": "i22YpeYl92EQ",
        "outputId": "992737c7-bb0b-472e-c646-5e691ca7b2bb"
      },
      "execution_count": 50,
      "outputs": [
        {
          "output_type": "execute_result",
          "data": {
            "text/plain": [
              "Index(['Last Price', 'Open Price', 'Max', 'Min', 'Size', 'Change Persent',\n",
              "       'Class'],\n",
              "      dtype='object')"
            ]
          },
          "metadata": {},
          "execution_count": 50
        }
      ]
    },
    {
      "cell_type": "code",
      "source": [
        "data['Last Price'].fillna(0, inplace = True)\n",
        "data['Size'].fillna(0, inplace = True)"
      ],
      "metadata": {
        "id": "OjboGXpO_01l"
      },
      "execution_count": 51,
      "outputs": []
    },
    {
      "cell_type": "code",
      "source": [
        "print(data.isnull().sum())"
      ],
      "metadata": {
        "colab": {
          "base_uri": "https://localhost:8080/"
        },
        "id": "b3r_Pr8kAfhX",
        "outputId": "4e13422e-fae5-42af-a59a-2d2d996aff8b"
      },
      "execution_count": 52,
      "outputs": [
        {
          "output_type": "stream",
          "name": "stdout",
          "text": [
            "Last Price        0\n",
            "Open Price        0\n",
            "Max               0\n",
            "Min               0\n",
            "Size              0\n",
            "Change Persent    0\n",
            "Class             0\n",
            "dtype: int64\n"
          ]
        }
      ]
    },
    {
      "cell_type": "code",
      "source": [
        "# معالجة البيانات: التحويل القياسي (Normalization)\n",
        "# scaler = StandardScaler()\n",
        "# X_train_scaled = scaler.fit_transform(X_train)\n",
        "# X_test_scaled = scaler.transform(X_test)"
      ],
      "metadata": {
        "id": "-l5iVS-5jpFF"
      },
      "execution_count": 53,
      "outputs": []
    },
    {
      "cell_type": "code",
      "source": [
        "# معالجة البيانات: التحويل القياسي\n",
        "scaler = StandardScaler()\n",
        "scaled_data = scaler.fit_transform(data.drop('Class', axis=1))  # استبدال 'target_column' بالعمود المناسب\n",
        "\n",
        "# إعادة تعبئة البيانات المعالجة في DataFrame\n",
        "scaled_df = pd.DataFrame(scaled_data, columns=data.columns[:-1])  # استبدال '-1' بعدد الأعمدة في مجموعة البيانات\n",
        "\n",
        "# إضافة عمود التصنيف إلى DataFrame المعالج\n",
        "scaled_df['Class'] = data['Class']\n",
        "\n",
        "# حفظ البيانات المعالجة إلى ملف CSV\n",
        "scaled_df.to_csv('preprocessed_dataset.csv', index=False)"
      ],
      "metadata": {
        "id": "mNu77dcECtGp"
      },
      "execution_count": 54,
      "outputs": []
    },
    {
      "cell_type": "code",
      "source": [
        "X = data.drop('Class', axis=1)  # استبدال 'target_column' بالعمود المناسب\n",
        "y = data['Class']\n"
      ],
      "metadata": {
        "id": "Cwh5OIuBCSeL"
      },
      "execution_count": 55,
      "outputs": []
    },
    {
      "cell_type": "code",
      "source": [
        "# تقسيم البيانات إلى بيانات تدريب واختبار\n",
        "X_train, X_test, y_train, y_test = train_test_split(X, y, test_size=0.2, random_state= 42)"
      ],
      "metadata": {
        "id": "b5dGKGlGCWcl"
      },
      "execution_count": 56,
      "outputs": []
    },
    {
      "cell_type": "code",
      "source": [
        "# قياس المقياس على البيانات التدريبية وتطبيقه على البيانات التدريبية والاختبارية\n",
        "scaler = StandardScaler()\n",
        "X_train_scaled = scaler.fit_transform(X_train)\n",
        "X_test_scaled = scaler.transform(X_test)"
      ],
      "metadata": {
        "id": "gDLRy0JuNRYN"
      },
      "execution_count": 57,
      "outputs": []
    },
    {
      "cell_type": "code",
      "source": [
        "# التصنيف الشجري\n",
        "tree_clf = DecisionTreeClassifier()\n",
        "tree_clf.fit(X_train_scaled, y_train)\n",
        "tree_pred = tree_clf.predict(X_test_scaled)"
      ],
      "metadata": {
        "id": "BHa3h5lr9SkI"
      },
      "execution_count": 58,
      "outputs": []
    },
    {
      "cell_type": "code",
      "source": [
        "# المنطق اللوجستي\n",
        "log_reg = LogisticRegression(max_iter=1000)\n",
        "log_reg.fit(X_train_scaled, y_train)\n",
        "log_reg_pred = log_reg.predict(X_test_scaled)\n"
      ],
      "metadata": {
        "id": "-x6w87oWxN00"
      },
      "execution_count": 59,
      "outputs": []
    },
    {
      "cell_type": "code",
      "source": [
        "# تصنيف الجيرسي\n",
        "knn_clf = KNeighborsClassifier()\n",
        "knn_clf.fit(X_train_scaled, y_train)\n",
        "knn_pred = knn_clf.predict(X_test_scaled)"
      ],
      "metadata": {
        "id": "S8NatA_UzJkH"
      },
      "execution_count": 60,
      "outputs": []
    },
    {
      "cell_type": "code",
      "source": [
        "# التصنيف العشوائي\n",
        "rf_clf = RandomForestClassifier()\n",
        "rf_clf.fit(X_train_scaled, y_train)\n",
        "rf_pred = rf_clf.predict(X_test_scaled)"
      ],
      "metadata": {
        "id": "XStS1To7ze5L"
      },
      "execution_count": 61,
      "outputs": []
    },
    {
      "cell_type": "code",
      "source": [
        "# حساب confusion matrix لكل نموذج\n",
        "tree_cm = confusion_matrix(y_test, tree_pred)\n",
        "log_reg_cm = confusion_matrix(y_test, log_reg_pred)\n",
        "knn_cm = confusion_matrix(y_test, knn_pred)\n",
        "rf_cm = confusion_matrix(y_test, rf_pred)\n",
        "\n",
        "print(\"Confusion Matrix for Decision Tree:\")\n",
        "print(tree_cm)\n",
        "print(\"\\nConfusion Matrix for Logistic Regression:\")\n",
        "print(log_reg_cm)\n",
        "print(\"Confusion Matrix for knn:\")\n",
        "print(knn_cm)\n",
        "print(\"Confusion Matrix for rf:\")\n",
        "print(rf_cm)\n",
        "\n"
      ],
      "metadata": {
        "colab": {
          "base_uri": "https://localhost:8080/"
        },
        "id": "EP1iIpxuxeLM",
        "outputId": "2d943a45-4bf9-4dd2-92d1-61ed2dbeb7ed"
      },
      "execution_count": 62,
      "outputs": [
        {
          "output_type": "stream",
          "name": "stdout",
          "text": [
            "Confusion Matrix for Decision Tree:\n",
            "[[10  0  0  0  0  0  0  0 33  0  0  0  0]\n",
            " [ 0 39  0  0  0  0  0  0  0  0  0  0  0]\n",
            " [ 0  0 39  0  1  0  2  0  0  0  0  0  2]\n",
            " [ 2  0  0 40  0  0  0  0  1  0  1  0  0]\n",
            " [ 0  0  2  0 39  1  4  0  0  0  0  0  0]\n",
            " [ 0  0  0  0  0 35  4  0  0  0  4  0  0]\n",
            " [ 1  0  4  0  1  1 23  0  0  0  0  0  7]\n",
            " [ 0  0  0  0  0  0  0 27  0  6  0  8  0]\n",
            " [49  0  0  0  0  0  0  0  1  0  0  0  0]\n",
            " [ 0  0  0  0  0  0  0  7  0 29  0  7  0]\n",
            " [ 2  0  0  0  0  5  0  0  0  0 30  0  0]\n",
            " [ 0  0  0  0  0  0  0  5  0 12  1 19  0]\n",
            " [ 0  0  2  0  0  0  6  0  0  0  0  0 36]]\n",
            "\n",
            "Confusion Matrix for Logistic Regression:\n",
            "[[43  0  0  0  0  0  0  0  0  0  0  0  0]\n",
            " [ 0 39  0  0  0  0  0  0  0  0  0  0  0]\n",
            " [18  0 11  0  7  6  2  0  0  0  0  0  0]\n",
            " [37  0  0  0  0  2  2  0  0  0  3  0  0]\n",
            " [ 2  0  4  0 21  0 18  0  0  0  1  0  0]\n",
            " [14  0  0  0  0 18  9  0  0  0  2  0  0]\n",
            " [15  0  5  0  0  0 14  0  0  0  3  0  0]\n",
            " [ 6  0  0  0  0  7  5 15  0  4  3  1  0]\n",
            " [47  0  0  0  0  1  0  0  0  0  2  0  0]\n",
            " [ 8  0  0  0  0  2  1 16  0  0  6 10  0]\n",
            " [13  0  0  0  0  5  5  1  0  0 13  0  0]\n",
            " [ 7  0  0  0  0  9  4  8  0  0  0  9  0]\n",
            " [42  0  0  0  0  1  0  1  0  0  0  0  0]]\n",
            "Confusion Matrix for knn:\n",
            "[[14  0  0  9  0  0  0  2 17  0  0  1  0]\n",
            " [ 0 39  0  0  0  0  0  0  0  0  0  0  0]\n",
            " [ 0  0 38  0  1  3  1  0  0  0  0  0  1]\n",
            " [10  0  0 19  0  4  0  0  3  0  8  0  0]\n",
            " [ 0  0  2  0 36  2  5  0  0  0  1  0  0]\n",
            " [ 1  0  4  1  0 24  3  5  0  1  0  3  1]\n",
            " [ 1  0  2  0  0  3 20  1  0  0  1  0  9]\n",
            " [ 4  0  0  2  0  8  0 15  1  5  5  1  0]\n",
            " [36  0  0 10  0  0  0  1  0  0  3  0  0]\n",
            " [ 1  0  0  3  0  2  0 17  1 10  4  5  0]\n",
            " [ 5  0  0  6  0  7  0  3  1  3 12  0  0]\n",
            " [ 0  0  3  1  0  8  0  8  0  4  1 12  0]\n",
            " [ 0  0  3  0  0  4 11  0  0  1  0  1 24]]\n",
            "Confusion Matrix for rf:\n",
            "[[ 5  0  0  0  0  0  0  0 36  0  2  0  0]\n",
            " [ 0 39  0  0  0  0  0  0  0  0  0  0  0]\n",
            " [ 0  0 40  0  0  0  1  0  0  0  0  0  3]\n",
            " [ 1  0  0 42  0  0  0  0  0  0  1  0  0]\n",
            " [ 0  0  2  0 39  0  3  0  0  0  0  0  2]\n",
            " [ 0  0  0  0  0 38  3  0  0  0  1  0  1]\n",
            " [ 0  0  2  0  0  2 24  0  0  0  0  0  9]\n",
            " [ 0  0  0  0  0  0  0 31  0  5  0  5  0]\n",
            " [44  0  0  0  0  0  0  0  4  0  2  0  0]\n",
            " [ 0  0  0  0  0  0  0  8  0 28  0  7  0]\n",
            " [ 0  0  0  0  0  4  0  0  1  0 32  0  0]\n",
            " [ 0  0  0  0  0  0  0  6  0  9  0 22  0]\n",
            " [ 0  0  2  0  0  0  7  0  0  0  0  0 35]]\n"
          ]
        }
      ]
    },
    {
      "cell_type": "code",
      "source": [
        "# رسم confusion matrix\n",
        "plt.figure(figsize=(10, 5))\n",
        "\n",
        "plt.subplot(1, 2, 1)\n",
        "sns.heatmap(knn_cm, annot=True, cmap='Blues', fmt='d', cbar=False)\n",
        "plt.title('Confusion Matrix for k-Nearest Neighbors')\n",
        "plt.xlabel('Predicted')\n",
        "plt.ylabel('True')\n",
        "\n",
        "plt.subplot(1, 2, 2)\n",
        "sns.heatmap(rf_cm, annot=True, cmap='Greens', fmt='d', cbar=False)\n",
        "plt.title('Confusion Matrix for Random Forest')\n",
        "plt.xlabel('Predicted')\n",
        "plt.ylabel('True')\n",
        "\n",
        "plt.tight_layout()\n",
        "plt.show()"
      ],
      "metadata": {
        "colab": {
          "base_uri": "https://localhost:8080/",
          "height": 483
        },
        "id": "WMvDjwGN0Gex",
        "outputId": "506909eb-aff1-4a55-a625-bf7767c9eb36"
      },
      "execution_count": 63,
      "outputs": [
        {
          "output_type": "display_data",
          "data": {
            "text/plain": [
              "<Figure size 1000x500 with 2 Axes>"
            ],
            "image/png": "[encoded data removed]"
          },
          "metadata": {}
        }
      ]
    },
    {
      "cell_type": "code",
      "source": [
        "# حساب دقة كل نموذج\n",
        "tree_accuracy = np.sum(np.diag(tree_cm)) / np.sum(tree_cm)\n",
        "log_reg_accuracy = np.sum(np.diag(log_reg_cm)) / np.sum(log_reg_cm)\n",
        "\n",
        "print(\"Accuracy for Decision Tree:\", tree_accuracy)\n",
        "print(\"Accuracy for Logistic Regression:\", log_reg_accuracy)\n",
        "# حساب الدقة لكل نموذج\n",
        "knn_accuracy = np.trace(knn_cm) / np.sum(knn_cm)\n",
        "rf_accuracy = np.trace(rf_cm) / np.sum(rf_cm)\n",
        "\n",
        "print(\"Accuracy for k-Nearest Neighbors:\", knn_accuracy)\n",
        "print(\"Accuracy for Random Forest:\", rf_accuracy)\n"
      ],
      "metadata": {
        "colab": {
          "base_uri": "https://localhost:8080/"
        },
        "id": "CfYCe59EBBRI",
        "outputId": "4d5b303c-a5f3-4fa3-c95c-c7c4dd925a44"
      },
      "execution_count": 64,
      "outputs": [
        {
          "output_type": "stream",
          "name": "stdout",
          "text": [
            "Accuracy for Decision Tree: 0.6697080291970803\n",
            "Accuracy for Logistic Regression: 0.33394160583941607\n",
            "Accuracy for k-Nearest Neighbors: 0.47992700729927007\n",
            "Accuracy for Random Forest: 0.6916058394160584\n"
          ]
        }
      ]
    },
    {
      "cell_type": "code",
      "source": [
        "# حساب معامل الارتباط بين المتغيرات\n",
        "correlation_matrix = data.corr()\n",
        "\n",
        "print(\"Correlation Matrix:\")\n",
        "print(correlation_matrix)"
      ],
      "metadata": {
        "colab": {
          "base_uri": "https://localhost:8080/"
        },
        "id": "_7OCxIoRyQa5",
        "outputId": "79df53d4-18b0-497e-fd74-ca2ff8bc2e55"
      },
      "execution_count": 65,
      "outputs": [
        {
          "output_type": "stream",
          "name": "stdout",
          "text": [
            "Correlation Matrix:\n",
            "                Last Price  Open Price       Max       Min      Size  \\\n",
            "Last Price        1.000000    0.994606  0.997832  0.997830  0.238054   \n",
            "Open Price        0.994606    1.000000  0.998125  0.996462  0.231756   \n",
            "Max               0.997832    0.998125  1.000000  0.996949  0.235002   \n",
            "Min               0.997830    0.996462  0.996949  1.000000  0.235071   \n",
            "Size              0.238054    0.231756  0.235002  0.235071  1.000000   \n",
            "Change Persent   -0.077328   -0.077177 -0.077599 -0.077067  0.079734   \n",
            "\n",
            "                Change Persent  \n",
            "Last Price           -0.077328  \n",
            "Open Price           -0.077177  \n",
            "Max                  -0.077599  \n",
            "Min                  -0.077067  \n",
            "Size                  0.079734  \n",
            "Change Persent        1.000000  \n"
          ]
        },
        {
          "output_type": "stream",
          "name": "stderr",
          "text": [
            "<ipython-input-65-508dc53554fb>:2: FutureWarning: The default value of numeric_only in DataFrame.corr is deprecated. In a future version, it will default to False. Select only valid columns or specify the value of numeric_only to silence this warning.\n",
            "  correlation_matrix = data.corr()\n"
          ]
        }
      ]
    },
    {
      "cell_type": "code",
      "source": [
        "# حساب معامل الارتباط\n",
        "correlation_matrix = data.corr()\n",
        "\n",
        "# رسم heatmap\n",
        "plt.figure(figsize=(10, 8))\n",
        "sns.heatmap(correlation_matrix, annot=True, cmap='coolwarm', fmt=\".2f\")\n",
        "plt.title('Correlation Heatmap')\n",
        "plt.show()"
      ],
      "metadata": {
        "colab": {
          "base_uri": "https://localhost:8080/",
          "height": 754
        },
        "id": "u_e4ttunyjzz",
        "outputId": "e4b82b2d-0d69-40bd-c2e2-9bf6c9f486fc"
      },
      "execution_count": 66,
      "outputs": [
        {
          "output_type": "stream",
          "name": "stderr",
          "text": [
            "<ipython-input-66-e17c3f00e5b7>:2: FutureWarning: The default value of numeric_only in DataFrame.corr is deprecated. In a future version, it will default to False. Select only valid columns or specify the value of numeric_only to silence this warning.\n",
            "  correlation_matrix = data.corr()\n"
          ]
        },
        {
          "output_type": "display_data",
          "data": {
            "text/plain": [
              "<Figure size 1000x800 with 2 Axes>"
            ],
            "image/png": "[encoded data removed]"
          },
          "metadata": {}
        }
      ]
    }
  ]
}