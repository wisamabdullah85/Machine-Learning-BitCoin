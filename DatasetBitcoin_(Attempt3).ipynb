{
  "nbformat": 4,
  "nbformat_minor": 0,
  "metadata": {
    "colab": {
      "provenance": [],
      "authorship_tag": "ABX9TyN8kRIgZhmx9ZtelB1gztLP",
      "include_colab_link": true
    },
    "kernelspec": {
      "name": "python3",
      "display_name": "Python 3"
    },
    "language_info": {
      "name": "python"
    }
  },
  "cells": [
    {
      "cell_type": "markdown",
      "metadata": {
        "id": "view-in-github",
        "colab_type": "text"
      },
      "source": [
        "<a href=\"https://colab.research.google.com/github/wisamabdullah85/Machine-Learning-BitCoin/blob/main/DatasetBitcoin_(Attempt3).ipynb\" target=\"_parent\"><img src=\"https://colab.research.google.com/assets/colab-badge.svg\" alt=\"Open In Colab\"/></a>"
      ]
    },
    {
      "cell_type": "code",
      "execution_count": 12,
      "metadata": {
        "id": "ES6BScba0nCy"
      },
      "outputs": [],
      "source": [
        "import pandas as pd\n",
        "from sklearn.model_selection import train_test_split\n",
        "from sklearn.linear_model import LogisticRegression\n",
        "from sklearn.decomposition import PCA\n",
        "from sklearn.cluster import KMeans\n",
        "from sklearn.ensemble import RandomForestClassifier\n",
        "from sklearn.metrics import confusion_matrix, accuracy_score\n",
        "from sklearn.pipeline import Pipeline\n"
      ]
    },
    {
      "cell_type": "code",
      "source": [
        "# قراءة البيانات من ملف CSV\n",
        "data = pd.read_csv('/content/datasetbcfinalmiss.csv')"
      ],
      "metadata": {
        "id": "HzDSSBAL0vda"
      },
      "execution_count": 13,
      "outputs": []
    },
    {
      "cell_type": "code",
      "source": [
        "data['Last Price'].fillna(0, inplace = True)\n",
        "data['Size'].fillna(0, inplace = True)"
      ],
      "metadata": {
        "id": "Hpns4CcB1UKw"
      },
      "execution_count": 14,
      "outputs": []
    },
    {
      "cell_type": "code",
      "source": [
        "print(data.isnull().sum())"
      ],
      "metadata": {
        "colab": {
          "base_uri": "https://localhost:8080/"
        },
        "id": "xMMZVZpF1kDa",
        "outputId": "5f83d80b-92dd-4e2a-bf14-9316ce76eaa4"
      },
      "execution_count": 15,
      "outputs": [
        {
          "output_type": "stream",
          "name": "stdout",
          "text": [
            "Last Price        0\n",
            "Open Price        0\n",
            "Max               0\n",
            "Min               0\n",
            "Size              0\n",
            "Change Persent    0\n",
            "Class             0\n",
            "dtype: int64\n"
          ]
        }
      ]
    },
    {
      "cell_type": "code",
      "source": [
        "# تقسيم البيانات إلى متغيرات الدخل (المتغيرات المستقلة) والمخرجات (المتغيرات المعتمدة)\n",
        "X = data.drop(columns=['Class'])\n",
        "y = data['Class']\n"
      ],
      "metadata": {
        "id": "5Hd5om7g02cr"
      },
      "execution_count": 16,
      "outputs": []
    },
    {
      "cell_type": "code",
      "source": [
        "# تقسيم البيانات إلى مجموعة التدريب ومجموعة الاختبار\n",
        "X_train, X_test, y_train, y_test = train_test_split(X, y, test_size=0.2, random_state=42)\n"
      ],
      "metadata": {
        "id": "kZig7vhV0-MF"
      },
      "execution_count": 17,
      "outputs": []
    },
    {
      "cell_type": "code",
      "source": [
        "# تهيئة وتدريب النماذج\n",
        "models = {\n",
        "    \"Logistic Regression\": LogisticRegression(),\n",
        "    \"Principal Component Analysis + Logistic Regression\": Pipeline([\n",
        "        (\"PCA\", PCA(n_components=2)),\n",
        "        (\"Logistic Regression\", LogisticRegression())\n",
        "    ]),\n",
        "    \"K-Means Clustering\": KMeans(n_clusters=2),\n",
        "    \"Random Forest Classifier\": RandomForestClassifier(n_estimators=100)\n",
        "}"
      ],
      "metadata": {
        "id": "pln-lwfdc1Rd"
      },
      "execution_count": 18,
      "outputs": []
    },
    {
      "cell_type": "code",
      "source": [
        "for name, model in models.items():\n",
        "    print(\"\\n\", name)\n",
        "    if name == \"Principal Component Analysis + Logistic Regression\":\n",
        "        # تطبيق PCA ثم النموذج التنبؤي\n",
        "        pipeline = Pipeline([\n",
        "            (\"PCA\", PCA(n_components=2)),\n",
        "            (\"Logistic Regression\", LogisticRegression())\n",
        "        ])\n",
        "        pipeline.fit(X_train, y_train)\n",
        "        y_pred = pipeline.predict(X_test)\n",
        "    elif name == \"K-Means Clustering\":\n",
        "        # تنفيذ K-Means Clustering والتنبؤ\n",
        "        model.fit(X_train)\n",
        "        y_pred = model.predict(X_test)\n",
        "    elif name == \"Random Forest Classifier\":\n",
        "        # تنفيذ Random Forest Classifier والتنبؤ\n",
        "        model.fit(X_train, y_train)\n",
        "        y_pred = model.predict(X_test)\n",
        "    else:\n",
        "        # تدريب وتنبؤ باستخدام النموذج المباشر\n",
        "        model.fit(X_train, y_train)\n",
        "        y_pred = model.predict(X_test)\n"
      ],
      "metadata": {
        "colab": {
          "base_uri": "https://localhost:8080/"
        },
        "id": "odegKw0GeD-H",
        "outputId": "e1812c6b-b9a7-42af-feea-bda9ef6719db"
      },
      "execution_count": 21,
      "outputs": [
        {
          "output_type": "stream",
          "name": "stdout",
          "text": [
            "\n",
            " Logistic Regression\n",
            "\n",
            " Principal Component Analysis + Logistic Regression\n"
          ]
        },
        {
          "output_type": "stream",
          "name": "stderr",
          "text": [
            "/usr/local/lib/python3.10/dist-packages/sklearn/linear_model/_logistic.py:458: ConvergenceWarning: lbfgs failed to converge (status=1):\n",
            "STOP: TOTAL NO. of ITERATIONS REACHED LIMIT.\n",
            "\n",
            "Increase the number of iterations (max_iter) or scale the data as shown in:\n",
            "    https://scikit-learn.org/stable/modules/preprocessing.html\n",
            "Please also refer to the documentation for alternative solver options:\n",
            "    https://scikit-learn.org/stable/modules/linear_model.html#logistic-regression\n",
            "  n_iter_i = _check_optimize_result(\n",
            "/usr/local/lib/python3.10/dist-packages/sklearn/linear_model/_logistic.py:458: ConvergenceWarning: lbfgs failed to converge (status=1):\n",
            "STOP: TOTAL NO. of ITERATIONS REACHED LIMIT.\n",
            "\n",
            "Increase the number of iterations (max_iter) or scale the data as shown in:\n",
            "    https://scikit-learn.org/stable/modules/preprocessing.html\n",
            "Please also refer to the documentation for alternative solver options:\n",
            "    https://scikit-learn.org/stable/modules/linear_model.html#logistic-regression\n",
            "  n_iter_i = _check_optimize_result(\n",
            "/usr/local/lib/python3.10/dist-packages/sklearn/cluster/_kmeans.py:870: FutureWarning: The default value of `n_init` will change from 10 to 'auto' in 1.4. Set the value of `n_init` explicitly to suppress the warning\n",
            "  warnings.warn(\n"
          ]
        },
        {
          "output_type": "stream",
          "name": "stdout",
          "text": [
            "\n",
            " K-Means Clustering\n",
            "\n",
            " Random Forest Classifier\n"
          ]
        }
      ]
    },
    {
      "cell_type": "code",
      "source": [
        "# حساب مصفوفة الارتباك\n",
        "conf_matrix = confusion_matrix(y_test, y_pred)\n",
        "print(\"مصفوفة الارتباك:\")\n",
        "print(conf_matrix)\n",
        "\n",
        "# حساب الدقة\n",
        "accuracy = accuracy_score(y_test, y_pred)\n",
        "print(\"الدقة:\", accuracy)"
      ],
      "metadata": {
        "colab": {
          "base_uri": "https://localhost:8080/"
        },
        "id": "tgD1L_O3fDWK",
        "outputId": "ea1b9611-c84f-46c3-cacb-c7df164990c7"
      },
      "execution_count": 28,
      "outputs": [
        {
          "output_type": "stream",
          "name": "stdout",
          "text": [
            "مصفوفة الارتباك:\n",
            "[[ 6  0  0  0  0  0  0  0 35  0  2  0  0]\n",
            " [ 0 39  0  0  0  0  0  0  0  0  0  0  0]\n",
            " [ 0  0 38  0  2  0  1  0  0  0  0  0  3]\n",
            " [ 0  0  0 43  0  0  0  0  1  0  0  0  0]\n",
            " [ 0  0  2  0 40  0  3  0  0  0  0  0  1]\n",
            " [ 0  0  0  0  0 38  2  0  0  0  1  0  2]\n",
            " [ 0  0  2  0  1  2 23  0  0  0  0  0  9]\n",
            " [ 0  0  0  0  0  0  0 32  0  5  0  4  0]\n",
            " [45  0  0  0  0  0  0  0  3  0  2  0  0]\n",
            " [ 0  0  0  0  0  0  0  7  0 29  0  7  0]\n",
            " [ 0  0  0  0  0  4  0  0  1  0 32  0  0]\n",
            " [ 0  0  0  0  0  0  0  6  0  5  0 26  0]\n",
            " [ 0  0  2  0  0  0  8  0  0  0  0  0 34]]\n",
            "الدقة: 0.698905109489051\n"
          ]
        }
      ]
    }
  ]
}